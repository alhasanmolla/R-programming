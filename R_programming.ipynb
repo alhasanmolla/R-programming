{
  "nbformat": 4,
  "nbformat_minor": 0,
  "metadata": {
    "colab": {
      "private_outputs": true,
      "provenance": [],
      "gpuType": "T4",
      "cell_execution_strategy": "setup",
      "authorship_tag": "ABX9TyMOPQP01KEtKUxj7zbmiNcl",
      "include_colab_link": true
    },
    "kernelspec": {
      "name": "ir",
      "display_name": "R"
    },
    "language_info": {
      "name": "R"
    },
    "accelerator": "GPU"
  },
  "cells": [
    {
      "cell_type": "markdown",
      "metadata": {
        "id": "view-in-github",
        "colab_type": "text"
      },
      "source": [
        "<a href=\"https://colab.research.google.com/github/alhasanmolla/R-programming/blob/main/R_programming.ipynb\" target=\"_parent\"><img src=\"https://colab.research.google.com/assets/colab-badge.svg\" alt=\"Open In Colab\"/></a>"
      ]
    },
    {
      "cell_type": "markdown",
      "source": [
        "#**Bitcoin (BTC) price prediction**"
      ],
      "metadata": {
        "id": "BLvG8XHtSNXD"
      }
    },
    {
      "cell_type": "code",
      "source": [
        "install.packages(\"quantmod\")\n",
        "install.packages(\"caret\")\n",
        "install.packages(\"rpart\")\n",
        "install.packages(\"rpart.plot\")\n",
        "install.packages(\"Metrics\")\n",
        "install.packages(\"zoo\")"
      ],
      "metadata": {
        "id": "TBkGPIBJS4yj"
      },
      "execution_count": null,
      "outputs": []
    },
    {
      "cell_type": "code",
      "source": [
        "# Load necessary libraries\n",
        "library(quantmod)\n",
        "library(caret)\n",
        "library(rpart)\n",
        "library(rpart.plot)\n",
        "library(Metrics)\n",
        "library(zoo)  # For rollmean function\n",
        "\n",
        "# Step 1: Load and prepare the BTC data\n",
        "getSymbols(\"BTC-USD\", src = \"yahoo\", from = \"2020-01-01\", to = Sys.Date())\n",
        "btc_data <- na.omit(Cl(`BTC-USD`))  # Using closing prices and removing NAs\n",
        "\n",
        "# Convert to data frame and create features\n",
        "btc_data <- data.frame(Date = index(btc_data), Close = as.numeric(btc_data$`BTC-USD.Close`))\n",
        "btc_data$Lag1 <- lag(btc_data$Close, -1)\n",
        "btc_data$Lag5 <- rollmean(btc_data$Close, k = 5, fill = NA, align = \"right\")\n",
        "btc_data$Lag10 <- rollmean(btc_data$Close, k = 10, fill = NA, align = \"right\")\n",
        "btc_data <- na.omit(btc_data)  # Remove any NA values created from lags\n",
        "\n",
        "# Step 2: Train-Test Split\n",
        "set.seed(123)  # For reproducibility\n",
        "trainIndex <- createDataPartition(btc_data$Close, p = 0.8, list = FALSE)\n",
        "train_data <- btc_data[trainIndex, ]\n",
        "test_data <- btc_data[-trainIndex, ]\n",
        "\n",
        "# Step 3: Train the Decision Tree Model\n",
        "formula <- Close ~ Lag1 + Lag5 + Lag10\n",
        "tree_model <- rpart(formula, data = train_data, method = \"anova\")\n",
        "rpart.plot(tree_model)\n",
        "\n",
        "# Step 4: Make Predictions and Evaluate\n",
        "predictions <- predict(tree_model, newdata = test_data)\n",
        "rmse_val <- rmse(test_data$Close, predictions)\n",
        "print(paste(\"RMSE: \", rmse_val))\n",
        "\n",
        "# Step 5: Future 7 Days Prediction\n",
        "# Get the last row of the dataset to initialize the forecast\n",
        "future_data <- tail(btc_data, 1)\n",
        "future_predictions <- numeric(7)  # Store future predictions\n",
        "\n",
        "for (i in 1:7) {\n",
        "  # Predict the next day based on the last known features\n",
        "  future_pred <- predict(tree_model, newdata = future_data)\n",
        "  future_predictions[i] <- future_pred\n",
        "\n",
        "  # Update the future_data for the next prediction\n",
        "  future_data <- data.frame(\n",
        "    Close = future_pred,\n",
        "    Lag1 = future_data$Close,\n",
        "    Lag5 = mean(c(future_data$Lag1, future_data$Lag5[1:4])),  # Update moving average\n",
        "    Lag10 = mean(c(future_data$Lag1, future_data$Lag10[1:9])) # Update moving average\n",
        "  )\n",
        "}\n",
        "\n",
        "# Step 6: Visualize Results\n",
        "# Combine actual and future data for plotting\n",
        "full_dates <- c(btc_data$Date, seq.Date(from = tail(btc_data$Date, 1) + 1, by = \"days\", length.out = 7))\n",
        "full_data <- c(btc_data$Close, future_predictions)\n",
        "\n",
        "plot(btc_data$Date, btc_data$Close, type = \"l\", col = \"blue\", lwd = 2,\n",
        "     main = \"BTC Price Prediction - Next 7 Days\",\n",
        "     xlab = \"Date\", ylab = \"Price (USD)\")\n",
        "lines(full_dates[(length(full_dates) - 6):length(full_dates)], future_predictions, col = \"red\", lwd = 2, lty = 2)\n",
        "legend(\"topright\", legend = c(\"Actual\", \"Future Prediction\"), col = c(\"blue\", \"red\"), lty = 1:2, lwd = 2)\n"
      ],
      "metadata": {
        "id": "lSgiqK4bSLL6"
      },
      "execution_count": null,
      "outputs": []
    },
    {
      "cell_type": "code",
      "source": [
        "# Define parameters and assumptions\n",
        "initial_fcf <- 6000  # Starting Free Cash Flow (e.g., $6 billion) - adjust based on actual data\n",
        "growth_rate <- 0.15  # Estimated FCF growth rate of 15% per year\n",
        "wacc <- 0.09         # Discount rate (WACC) at 9%\n",
        "terminal_growth <- 0.03  # Terminal growth rate at 3%\n",
        "projection_years <- 10  # Number of years for explicit FCF projections\n",
        "\n",
        "# Step 1: Project Future Free Cash Flows\n",
        "future_fcfs <- numeric(projection_years)\n",
        "future_fcfs[1] <- initial_fcf * (1 + growth_rate)\n",
        "for (i in 2:projection_years) {\n",
        "  future_fcfs[i] <- future_fcfs[i - 1] * (1 + growth_rate)\n",
        "}\n",
        "\n",
        "# Step 2: Calculate Terminal Value (Using Gordon Growth Model)\n",
        "terminal_value <- future_fcfs[projection_years] * (1 + terminal_growth) / (wacc - terminal_growth)\n",
        "\n",
        "# Step 3: Discount Cash Flows to Present Value\n",
        "discounted_fcfs <- future_fcfs / (1 + wacc)^(1:projection_years)\n",
        "discounted_terminal_value <- terminal_value / (1 + wacc)^projection_years\n",
        "\n",
        "# Step 4: Calculate Enterprise Value\n",
        "enterprise_value <- sum(discounted_fcfs) + discounted_terminal_value\n",
        "\n",
        "# Step 5: Adjust for Net Debt to Get Equity Value\n",
        "net_debt <- -5000  # Assume Tesla has net cash (negative net debt)\n",
        "equity_value <- enterprise_value + net_debt\n",
        "\n",
        "# Step 6: Calculate Fair Value per Share\n",
        "shares_outstanding <- 3167  # Approximate outstanding shares (in millions)\n",
        "fair_value_per_share <- equity_value / shares_outstanding\n",
        "\n",
        "# Output results\n",
        "cat(\"Projected Future FCFs (in millions):\", future_fcfs, \"\\n\")\n",
        "cat(\"Discounted FCFs (in millions):\", discounted_fcfs, \"\\n\")\n",
        "cat(\"Enterprise Value (in millions):\", enterprise_value, \"\\n\")\n",
        "cat(\"Equity Value (in millions):\", equity_value, \"\\n\")\n",
        "cat(\"Fair Value per Share:\", fair_value_per_share, \"\\n\")\n"
      ],
      "metadata": {
        "id": "hwZDYjOasEWH"
      },
      "execution_count": null,
      "outputs": []
    },
    {
      "source": [
        "# Load necessary libraries\n",
        "library(quantmod)\n",
        "library(caret)\n",
        "library(rpart)\n",
        "library(rpart.plot)\n",
        "library(Metrics)\n",
        "library(zoo)  # For rollmean function\n",
        "\n",
        "# Step 1: Load and prepare the BTC data\n",
        "getSymbols(\"BTC-USD\", src = \"yahoo\", from = \"2020-01-01\", to = Sys.Date())\n",
        "btc_data <- na.omit(Cl(`BTC-USD`))  # Using closing prices and removing NAs\n",
        "\n",
        "# Convert to data frame and create features\n",
        "btc_data <- data.frame(Date = index(btc_data), Close = as.numeric(btc_data$`BTC-USD.Close`))\n",
        "btc_data$Lag1 <- dplyr::lag(btc_data$Close, 1)   # Use positive 1 for lagging one day back\n",
        "btc_data$Lag5 <- rollmean(btc_data$Close, k = 5, fill = NA, align = \"right\")\n",
        "btc_data$Lag10 <- rollmean(btc_data$Close, k = 10, fill = NA, align = \"right\")\n",
        "btc_data <- na.omit(btc_data)  # Remove any NA values created from lags\n",
        "\n",
        "# Step 2: Train-Test Split\n",
        "set.seed(123)  # For reproducibility\n",
        "trainIndex <- createDataPartition(btc_data$Close, p = 0.8, list = FALSE)\n",
        "train_data <- btc_data[trainIndex, ]\n",
        "test_data <- btc_data[-trainIndex, ]\n",
        "\n",
        "# Step 3: Train the Decision Tree Model\n",
        "formula <- Close ~ Lag1 + Lag5 + Lag10\n",
        "tree_model <- rpart(formula, data = train_data, method = \"anova\")\n",
        "rpart.plot(tree_model)\n",
        "\n",
        "# Step 4: Make Predictions and Evaluate\n",
        "predictions <- predict(tree_model, newdata = test_data)\n",
        "rmse_val <- rmse(test_data$Close, predictions)\n",
        "print(paste(\"RMSE: \", rmse_val))\n",
        "\n",
        "# Step 5: Future 7 Days Prediction\n",
        "# Get the last row of the dataset to initialize the forecast\n",
        "future_data <- tail(btc_data, 1)\n",
        "future_predictions <- numeric(7)  # Store future predictions\n",
        "\n",
        "for (i in 1:7) {\n",
        "  # Predict the next day based on the last known features\n",
        "  future_pred <- predict(tree_model, newdata = future_data)\n",
        "  future_predictions[i] <- future_pred\n",
        "\n",
        "  # Update the future_data for the next prediction\n",
        "  future_data <- data.frame(\n",
        "    Close = future_pred,\n",
        "    Lag1 = future_data$Close,\n",
        "    Lag5 = mean(c(future_data$Lag1, future_data$Lag5[1:4])),  # Update moving average\n",
        "    Lag10 = mean(c(future_data$Lag1, future_data$Lag10[1:9])) # Update moving average\n",
        "  )\n",
        "}\n",
        "\n",
        "# Step 6: Visualize Results\n",
        "# Combine actual and future data for plotting\n",
        "full_dates <- c(btc_data$Date, seq.Date(from = tail(btc_data$Date, 1) + 1, by = \"days\", length.out = 7))\n",
        "full_data <- c(btc_data$Close, future_predictions)\n",
        "\n",
        "plot(btc_data$Date, btc_data$Close, type = \"l\", col = \"blue\", lwd = 2,\n",
        "     main = \"BTC Price Prediction - Next 7 Days\",\n",
        "     xlab = \"Date\", ylab = \"Price (USD)\")\n",
        "lines(full_dates[(length(full_dates) - 6):length(full_dates)], future_predictions, col = \"red\", lwd = 2, lty = 2)\n",
        "legend(\"topright\", legend = c(\"Actual\", \"Future Prediction\"), col = c(\"blue\", \"red\"), lty = 1:2, lwd = 2)\n"
      ],
      "cell_type": "code",
      "metadata": {
        "id": "spnDh9QHMup0"
      },
      "execution_count": null,
      "outputs": []
    },
    {
      "cell_type": "code",
      "source": [
        "# How to activate repositories\n",
        "# How to install packages\n",
        "install.packages(\"tidyverse\", dependencies = TRUE)\n",
        "\n",
        "# Activate the packages\n",
        "library(readxl)\n",
        "library(tidyverse)\n",
        "\n",
        "\n"
      ],
      "metadata": {
        "id": "JeJsUWArSi8a"
      },
      "execution_count": null,
      "outputs": []
    },
    {
      "cell_type": "code",
      "execution_count": null,
      "metadata": {
        "id": "VeX7VK1pEg2n"
      },
      "outputs": [],
      "source": [
        "x <- 3"
      ]
    },
    {
      "cell_type": "code",
      "source": [
        "x"
      ],
      "metadata": {
        "id": "5ZIS7s1a5QzY"
      },
      "execution_count": null,
      "outputs": []
    },
    {
      "cell_type": "code",
      "source": [
        "x <- 10\n",
        "if (x > 5) {\n",
        "  print(\"x is greater than 5\")\n",
        "} else {\n",
        "  print(\"x is less than or equal to 5\")\n",
        "}"
      ],
      "metadata": {
        "id": "jiQoR9e-5SX-"
      },
      "execution_count": null,
      "outputs": []
    },
    {
      "cell_type": "code",
      "source": [
        "for (i in 1:5) {\n",
        "  print(i)\n",
        "}"
      ],
      "metadata": {
        "id": "z6R2QyIg6qYs"
      },
      "execution_count": null,
      "outputs": []
    },
    {
      "cell_type": "code",
      "source": [
        "i <- 1\n",
        "while (i <= 5) {\n",
        "  print(i)\n",
        "  i <- i + 1\n",
        "}"
      ],
      "metadata": {
        "id": "FvSZtHhM8Sz4"
      },
      "execution_count": null,
      "outputs": []
    },
    {
      "cell_type": "code",
      "source": [
        "x <- 5"
      ],
      "metadata": {
        "id": "5Gz0ipFS9CuF"
      },
      "execution_count": null,
      "outputs": []
    },
    {
      "cell_type": "code",
      "source": [
        "square <- function(x) {\n",
        "  return(x^2)\n",
        "}"
      ],
      "metadata": {
        "id": "dNfgDUEd6y3z"
      },
      "execution_count": null,
      "outputs": []
    },
    {
      "cell_type": "code",
      "source": [
        "square_and_add <- function(x, add_num) {\n",
        "  return(x^2 + add_num)\n",
        "}"
      ],
      "metadata": {
        "id": "tqosasNM9uOM"
      },
      "execution_count": null,
      "outputs": []
    },
    {
      "cell_type": "code",
      "source": [
        "result <- square_and_add(5, 3)\n",
        "print(result)  # Output: 28"
      ],
      "metadata": {
        "id": "_vlZPZHw9uRr"
      },
      "execution_count": null,
      "outputs": []
    },
    {
      "cell_type": "code",
      "source": [
        "square"
      ],
      "metadata": {
        "id": "lVa9J_Hj9eZF"
      },
      "execution_count": null,
      "outputs": []
    },
    {
      "cell_type": "code",
      "source": [
        "x <- NULL  # Represents a missing value\n",
        "y <- NA     # Another way to represent a missing value\n",
        "z <- Inf    # Represents infinity\n",
        "w <- NaN    # Represents a Not-a-Number value"
      ],
      "metadata": {
        "id": "PWfkl3DZ7bYE"
      },
      "execution_count": null,
      "outputs": []
    },
    {
      "cell_type": "code",
      "source": [
        "x"
      ],
      "metadata": {
        "id": "ZrhLGN5L9H4H"
      },
      "execution_count": null,
      "outputs": []
    },
    {
      "cell_type": "code",
      "source": [
        "my_vector <- c(1, 2, 3, 4, 5)"
      ],
      "metadata": {
        "id": "JbZ7QtEY9Tm_"
      },
      "execution_count": null,
      "outputs": []
    },
    {
      "cell_type": "code",
      "source": [
        "my_vector"
      ],
      "metadata": {
        "id": "oMrKWe6l9bKX"
      },
      "execution_count": null,
      "outputs": []
    },
    {
      "cell_type": "code",
      "source": [
        "my_list <- list(\"apple\", 10, TRUE)"
      ],
      "metadata": {
        "id": "xaRVAGMb9cxX"
      },
      "execution_count": null,
      "outputs": []
    },
    {
      "cell_type": "code",
      "source": [
        "print(my_list)"
      ],
      "metadata": {
        "id": "QSYE5KoU9_yu"
      },
      "execution_count": null,
      "outputs": []
    },
    {
      "cell_type": "code",
      "source": [
        "my_matrix <- matrix(c(1, 2, 3, 4,5,6,7,8,9,10), nrow = 2, ncol = 5)"
      ],
      "metadata": {
        "id": "2yZkFLtG-Ble"
      },
      "execution_count": null,
      "outputs": []
    },
    {
      "cell_type": "code",
      "source": [
        "my_matrix"
      ],
      "metadata": {
        "id": "ycnuYWG2-N3m"
      },
      "execution_count": null,
      "outputs": []
    },
    {
      "cell_type": "code",
      "source": [
        "my_df <- data.frame(name = c(\"Alice\", \"Bob\"), age = c(25, 30))"
      ],
      "metadata": {
        "id": "Ppmt3ggi-P6l"
      },
      "execution_count": null,
      "outputs": []
    },
    {
      "cell_type": "code",
      "source": [
        "my_df"
      ],
      "metadata": {
        "id": "M4KBDsIh-6Dl"
      },
      "execution_count": null,
      "outputs": []
    },
    {
      "cell_type": "code",
      "source": [
        "my_factor <- factor(c(\"male\", \"female\", \"male\"))"
      ],
      "metadata": {
        "id": "rXDTyEyn-9Sl"
      },
      "execution_count": null,
      "outputs": []
    },
    {
      "cell_type": "code",
      "source": [
        "my_factor"
      ],
      "metadata": {
        "id": "eMXZay7A_HK8"
      },
      "execution_count": null,
      "outputs": []
    },
    {
      "cell_type": "code",
      "source": [
        "# Read the CSV file\n",
        "data <- read.csv(\"/content/sample_data/TSLA_cash_flow.csv\", header = TRUE)\n",
        "\n",
        "# Transpose the data\n",
        "transposed_data <- t(data)\n",
        "\n",
        "# Convert to a data frame\n",
        "df_transposed <- as.data.frame(transposed_data)\n",
        "\n",
        "# View the transposed data frame\n",
        "print(df_transposed)"
      ],
      "metadata": {
        "id": "T_4GWrVGEyas"
      },
      "execution_count": null,
      "outputs": []
    },
    {
      "cell_type": "code",
      "source": [
        "df_transposed"
      ],
      "metadata": {
        "id": "Tv4WORj0E95n"
      },
      "execution_count": null,
      "outputs": []
    },
    {
      "cell_type": "code",
      "source": [
        "write.csv(df_transposed, \"output.csv\")"
      ],
      "metadata": {
        "id": "LF3qD1MSFMn-"
      },
      "execution_count": null,
      "outputs": []
    },
    {
      "cell_type": "code",
      "source": [],
      "metadata": {
        "id": "MSM6Jv8eFOpX"
      },
      "execution_count": null,
      "outputs": []
    },
    {
      "cell_type": "code",
      "source": [
        "# Install the package if not already installed\n",
        "install.packages(\"readxl\")\n",
        "\n",
        "# Load the library\n",
        "library(readxl)\n",
        "\n",
        "# Read the XLSX file\n",
        "datas <- read_excel(\"/content/output.xlsx\")\n",
        "\n",
        "# Print the data\n",
        "print(datas)"
      ],
      "metadata": {
        "id": "9Mc9AJTN_JXE"
      },
      "execution_count": null,
      "outputs": []
    },
    {
      "cell_type": "code",
      "source": [
        "datas"
      ],
      "metadata": {
        "id": "VLfe4-Es_PBU"
      },
      "execution_count": null,
      "outputs": []
    },
    {
      "cell_type": "code",
      "source": [
        "#######################################################################################################"
      ],
      "metadata": {
        "id": "1NQfQpTcWZrr"
      },
      "execution_count": null,
      "outputs": []
    },
    {
      "cell_type": "code",
      "source": [],
      "metadata": {
        "id": "R3c7_0uIWcMx"
      },
      "execution_count": null,
      "outputs": []
    },
    {
      "cell_type": "code",
      "source": [],
      "metadata": {
        "id": "NY1dKBqBWcPj"
      },
      "execution_count": null,
      "outputs": []
    },
    {
      "cell_type": "code",
      "source": [],
      "metadata": {
        "id": "BJ-ZgjtYWcSR"
      },
      "execution_count": null,
      "outputs": []
    },
    {
      "cell_type": "code",
      "source": [
        "# Read the CSV file\n",
        "df <- read.csv(\"/content/sample_data/salaries.csv\", header = TRUE)"
      ],
      "metadata": {
        "id": "hiWjvjNuWcUz"
      },
      "execution_count": null,
      "outputs": []
    },
    {
      "cell_type": "code",
      "source": [
        "\n",
        "df"
      ],
      "metadata": {
        "id": "yYeRbY0pWcXi"
      },
      "execution_count": null,
      "outputs": []
    },
    {
      "cell_type": "code",
      "source": [
        "# Load necessary packages\n",
        "install.packages(\"tidyverse\", dependencies = TRUE)\n",
        "library(readxl)\n",
        "library(tidyverse)\n",
        "\n",
        "# Load your dataset\n",
        "df <- read.csv(\"/content/sample_data/salaries.csv\")\n",
        "\n",
        "# Display the first few rows and column names to verify\n",
        "head(df)\n",
        "colnames(df)\n",
        "\n"
      ],
      "metadata": {
        "id": "O8DVtrI9BKY5"
      },
      "execution_count": null,
      "outputs": []
    },
    {
      "cell_type": "code",
      "source": [
        "# Use the correct column name for color (replace 'department' with the actual column name if needed)\n",
        "ggplot(df, aes(x = salary, y = job_title, color = experience_level)) +\n",
        "  geom_point() +\n",
        "  labs(title = \"Salaries by Job Title\", x = \"salary\", y = \"job_title\") +\n",
        "  theme_minimal()\n"
      ],
      "metadata": {
        "id": "axlDjVbRZFY9"
      },
      "execution_count": null,
      "outputs": []
    },
    {
      "cell_type": "code",
      "source": [
        "# Load necessary packages\n",
        "install.packages(\"tidyverse\", dependencies = TRUE)\n",
        "library(readxl)\n",
        "library(tidyverse)\n",
        "\n",
        "# Load your dataset\n",
        "df <- read.csv(\"/content/sample_data/salaries.csv\")\n",
        "\n",
        "# Display the first few rows and column names to verify\n",
        "#head(df)\n",
        "#colnames(df)\n",
        "\n",
        "# Check the structure of the data frame\n",
        "#str(df)\n",
        "\n",
        "# Use the correct column names for aesthetics\n",
        "# Replace 'department' with the actual categorical column name if necessary\n",
        "# Assuming 'salary' is numeric and 'job_title' is a categorical variable\n",
        "ggplot(df, aes(x = salary, y = job_title )) +\n",
        "  geom_point(size = 3, alpha = 0.7) +  # Add points with specified size and transparency\n",
        "  labs(title = \"Salaries by Job Title and Experience Level\",\n",
        "       x = \"salary\",\n",
        "       y = \"job_title\",\n",
        "       color = \"experience_level\") +  # Add labels for axes and legend\n",
        "  theme_minimal() +  # Apply a minimal theme for a clean look\n",
        "  scale_color_brewer(palette = \"Set1\")  # Optional: use a color palette\n",
        "\n"
      ],
      "metadata": {
        "id": "l-MT1hIyZF2d"
      },
      "execution_count": null,
      "outputs": []
    },
    {
      "cell_type": "code",
      "source": [],
      "metadata": {
        "id": "4iQjtqzzZF5W"
      },
      "execution_count": null,
      "outputs": []
    },
    {
      "cell_type": "code",
      "source": [
        "install.packages(\"ggplot2\")\n",
        "library(ggplot2)\n",
        "\n",
        "data()\n",
        "data(\"diamonds\")\n",
        "\n",
        "d_sample <- diamonds[seq(1, 53000, by=100),]\n",
        "nrow(d_sample)\n",
        "\n",
        "p <- ggplot(data=d_sample, aes(x=color, y=price, fill=color)) + geom_violin()\n",
        "\n",
        "p + geom_boxplot(width=0.1) + geom_jitter(size=0.5)"
      ],
      "metadata": {
        "id": "kETGzVV8ZF7-"
      },
      "execution_count": null,
      "outputs": []
    },
    {
      "cell_type": "code",
      "source": [
        "d_sample"
      ],
      "metadata": {
        "id": "LWk-eCC9d6Cd"
      },
      "execution_count": null,
      "outputs": []
    },
    {
      "cell_type": "code",
      "source": [
        "# Load necessary packages\n",
        "install.packages(\"ggplot2\")  # Uncomment if ggplot2 is not installed\n",
        "library(ggplot2)\n",
        "\n",
        "# Load your dataset\n",
        "df <- read.csv(\"/content/sample_data/salaries.csv\")\n",
        "\n",
        "# Display the first few rows and column names to verify\n",
        "#head(df)\n",
        "#colnames(df)\n",
        "\n",
        "# Sample the dataset (uncomment if you want to sample)\n",
        "# df <- df[seq(1, 130, by=11),]\n",
        "# nrow(df)  # Display the number of rows in the sample (optional)\n",
        "\n",
        "# Create the plot\n",
        "p <- ggplot(data=df, aes(x=experience_level, y=salary_in_usd, fill=experience_level)) +\n",
        "  geom_violin(trim = FALSE) +  # Create the violin plot\n",
        "  geom_boxplot(width=0.1, position=position_dodge(0.9)) +  # Add boxplot\n",
        "  geom_jitter(size=0.5, width=0.2, height=0) +  # Add jittered points\n",
        "  labs(title = \"Salary Distribution by Experience Level\",\n",
        "       x = \"Experience Level\",\n",
        "       y = \"Salary in USD\") +  # Add labels\n",
        "  theme_minimal()  # Use a minimal theme\n",
        "\n",
        "# Display the plot\n",
        "print(p)\n"
      ],
      "metadata": {
        "id": "lq96FfXoZF-W"
      },
      "execution_count": null,
      "outputs": []
    },
    {
      "cell_type": "code",
      "source": [
        "df"
      ],
      "metadata": {
        "id": "cctGQLtmZGA1"
      },
      "execution_count": null,
      "outputs": []
    },
    {
      "cell_type": "code",
      "source": [
        "qplot(experience_level, salary_in_usd, data = df, colour = company_location)"
      ],
      "metadata": {
        "id": "ACcsjF65ZGFW"
      },
      "execution_count": null,
      "outputs": []
    },
    {
      "cell_type": "code",
      "source": [
        "qplot(salary_in_usd, data = df, geom = \"histogram\", binwidth = 1,\n",
        "xlim = c(0,3))\n",
        "qplot(salary_in_usd, data = df, geom = \"histogram\", binwidth = 0.1,\n",
        "xlim = c(0,3))\n",
        "qplot(salary_in_usd, data = df, geom = \"histogram\", binwidth = 0.01,\n",
        "xlim = c(0,3))\n"
      ],
      "metadata": {
        "id": "KjpuJkFXZGH-"
      },
      "execution_count": null,
      "outputs": []
    },
    {
      "cell_type": "code",
      "source": [
        "# Load necessary packages\n",
        "install.packages(\"ggplot2\")  # Uncomment if ggplot2 is not installed\n",
        "library(ggplot2)\n",
        "\n",
        "# Load your dataset\n",
        "df <- read.csv(\"/content/sample_data/salaries.csv\")  # Update with actual path\n",
        "\n",
        "\n",
        "\n",
        "# Display the salary range to decide on appropriate binwidth and x-axis limits\n",
        "summary(df$salary_in_usd)\n",
        "\n",
        "# Adjusted binwidths for the salary range\n",
        "# Plot with binwidth of 10000\n",
        "qplot(salary_in_usd, data = df, geom = \"histogram\", binwidth = 10000, xlim = c(0, 800000),\n",
        "      main = \"Histogram of Salaries (Binwidth = 10,000)\", xlab = \"Salary in USD\", ylab = \"Count\")\n",
        "\n",
        "# Plot with binwidth of 5000\n",
        "qplot(salary_in_usd, data = df, geom = \"histogram\", binwidth = 5000, xlim = c(0, 800000),\n",
        "      main = \"Histogram of Salaries (Binwidth = 5,000)\", xlab = \"Salary in USD\", ylab = \"Count\")\n",
        "\n",
        "# Plot with binwidth of 2000\n",
        "qplot(salary_in_usd, data = df, geom = \"histogram\", binwidth = 2000, xlim = c(0, 800000),\n",
        "      main = \"Histogram of Salaries (Binwidth = 2,000)\", xlab = \"Salary in USD\", ylab = \"Count\")\n"
      ],
      "metadata": {
        "id": "DUlWDvb2MRLm"
      },
      "execution_count": null,
      "outputs": []
    },
    {
      "cell_type": "code",
      "source": [
        "# Load necessary packages\n",
        "install.packages(\"ggplot2\")  # Uncomment if ggplot2 is not installed\n",
        "library(ggplot2)\n",
        "\n",
        "# Load your dataset\n",
        "df <- read.csv(\"/content/sample_data/salaries.csv\")  # Update with the actual path\n",
        "\n",
        "# Display the salary range\n",
        "salary_range <- range(df$salary_in_usd, na.rm = TRUE)\n",
        "summary(df$salary_in_usd)\n",
        "\n",
        "# Histogram with binwidth of 10000 and annotated salary range\n",
        "p <- qplot(salary_in_usd, data = df, geom = \"histogram\", binwidth = 10000, xlim = c(0, 800000),\n",
        "           main = \"Histogram of Salaries (Binwidth = 10,000)\",\n",
        "           xlab = \"Salary in USD\", ylab = \"Count\") +\n",
        "      annotate(\"text\", x = 600000, y = 30, label = paste(\"Salary Range:\", salary_range[1], \"to\", salary_range[2]),\n",
        "               color = \"blue\", size = 4, hjust = 0)\n",
        "\n",
        "print(p)\n"
      ],
      "metadata": {
        "id": "Y4RIQna1MROW"
      },
      "execution_count": null,
      "outputs": []
    },
    {
      "cell_type": "code",
      "source": [
        "p <- ggplot(df, aes(x = salary_in_usd, y = employment_type))\n",
        "p + geom_point()"
      ],
      "metadata": {
        "id": "IXLvszBhMRQ1"
      },
      "execution_count": null,
      "outputs": []
    },
    {
      "cell_type": "code",
      "source": [
        "boysbox <- ggplot(df, aes(employment_type , salary_in_usd)) + geom_boxplot()"
      ],
      "metadata": {
        "id": "SKdQICDOMRS9"
      },
      "execution_count": null,
      "outputs": []
    },
    {
      "cell_type": "code",
      "source": [
        "boysbox"
      ],
      "metadata": {
        "id": "ko0k3-DaMRVH"
      },
      "execution_count": null,
      "outputs": []
    },
    {
      "cell_type": "code",
      "source": [
        "boysbox + geom_line(aes(group = work_year), colour = \"#3366FF\")"
      ],
      "metadata": {
        "id": "l9gwQwHzMRXm"
      },
      "execution_count": null,
      "outputs": []
    },
    {
      "cell_type": "code",
      "source": [
        "d <- ggplot(df, aes(employment_type)) + xlim(0, 3)\n",
        "d + stat_bin(aes(ymax = ..count..), binwidth = 0.1, geom = \"area\")\n",
        "d + stat_bin(\n",
        "aes(size = ..density..), binwidth = 0.1,\n",
        "geom = \"point\", position=\"identity\")\n",
        "d + stat_bin(\n",
        "aes(y = 1, fill = ..count..), binwidth = 0.1,\n",
        "geom = \"tile\", position=\"identity\"\n",
        ")\n"
      ],
      "metadata": {
        "id": "Gmbf1KoGMReQ"
      },
      "execution_count": null,
      "outputs": []
    },
    {
      "cell_type": "code",
      "source": [
        "############################################################################################"
      ],
      "metadata": {
        "id": "QF4KgQ5QMRg-"
      },
      "execution_count": null,
      "outputs": []
    },
    {
      "cell_type": "code",
      "source": [
        "# Sample data with large financial values\n",
        "datas <- data.frame(\n",
        "  Company = c('Company A', 'Company B', 'Company C'),\n",
        "  Revenue = c(123456789, 987654321.34, 56473829100000000),\n",
        "  Profit = c(23456789, 876543211500000, 34738291.678)\n",
        ")\n",
        "\n",
        "# Display the data frame\n",
        "datas"
      ],
      "metadata": {
        "id": "YrtXpC7sMRjq"
      },
      "execution_count": null,
      "outputs": []
    },
    {
      "cell_type": "code",
      "source": [
        "# Install scales package if not already installed\n",
        "# install.packages(\"scales\")\n",
        "\n",
        "library(scales)\n",
        "\n",
        "# Create a copy of the dataframe\n",
        "df_solution <- datas\n",
        "\n",
        "# Format the Revenue and Profit columns with commas\n",
        "df_solution$Revenue <- comma(df_solution$Revenue, accuracy = 1)\n",
        "df_solution$Profit <- comma(df_solution$Profit, accuracy = 1)\n",
        "\n",
        "# View the formatted dataframe\n",
        "df_solution\n"
      ],
      "metadata": {
        "id": "tOjw0uwsMRlk"
      },
      "execution_count": null,
      "outputs": []
    },
    {
      "cell_type": "code",
      "source": [
        "install.packages(\"ggplot2\")\n"
      ],
      "metadata": {
        "id": "Gqh-auRzMRoJ"
      },
      "execution_count": null,
      "outputs": []
    },
    {
      "cell_type": "code",
      "source": [
        "# Create the scatter plot with enhancements\n",
        "p <- ggplot(data=df_solution, aes(x=Revenue, y=Profit, color=Company)) +\n",
        "  geom_point(size=3, alpha=0.7) +  # Add scatter points\n",
        "  geom_smooth(method=\"lm\", se=FALSE, linetype=\"dashed\", color=\"black\") +  # Add a trend line\n",
        "  labs(title = \"Revenue vs Profit by Company\",\n",
        "       x = \"Revenue\",\n",
        "       y = \"Profit\",\n",
        "       color = \"Company\") +  # Add labels\n",
        "  theme_minimal()  # Use a minimal theme\n",
        "\n",
        "# Display the plot\n",
        "print(p)\n",
        "\n"
      ],
      "metadata": {
        "id": "4dHAHVH0MRqp"
      },
      "execution_count": null,
      "outputs": []
    },
    {
      "source": [
        "install.packages(\"openxlsx\")\n",
        "library(openxlsx)\n",
        "\n",
        "df <- read.xlsx(\"/content/output.xlsx\")  # Update with actual path & xlsx extension if file is xlsx"
      ],
      "cell_type": "code",
      "metadata": {
        "id": "l9IOq8effEKf"
      },
      "execution_count": null,
      "outputs": []
    },
    {
      "cell_type": "code",
      "source": [
        "df"
      ],
      "metadata": {
        "id": "ybGdi_SIMRvd"
      },
      "execution_count": null,
      "outputs": []
    },
    {
      "cell_type": "code",
      "source": [
        "# Create a copy of the dataframe\n",
        "df_solution <- df\n",
        "\n",
        "# Specify columns to format\n",
        "columns_to_format <- c(\n",
        "  \"operatingCashflow\", \"paymentsForOperatingActivities\",\n",
        "  \"proceedsFromOperatingActivities\", \"netIncome\"\n",
        ")\n",
        "\n",
        "# Convert each specified column to numeric, if not already, and then apply comma formatting\n",
        "for (col in columns_to_format) {\n",
        "  if (!is.numeric(df_solution[[col]])) {\n",
        "    df_solution[[col]] <- as.numeric(df_solution[[col]])\n",
        "  }\n",
        "  df_solution[[col]] <- comma(df_solution[[col]], accuracy = 1)\n",
        "}\n",
        "\n",
        "# View the formatted dataframe\n",
        "df_solution"
      ],
      "metadata": {
        "id": "pdL7YHuoMRxn"
      },
      "execution_count": null,
      "outputs": []
    },
    {
      "cell_type": "code",
      "source": [
        "p <- ggplot(data=df_solution, aes(x=netIncome, y=operatingCashflow ,col=fiscalDateEnding)) +\n",
        "  geom_point(size=3, alpha=0.7) +  # Add scatter points\n",
        "  geom_smooth(method=\"lm\", se=FALSE, linetype=\"dashed\", color=\"black\") +  # Add a trend line\n",
        "  labs(title = \"Revenue vs Profit by Company\",\n",
        "       x = \"Revenue\",\n",
        "       y = \"Profit\",\n",
        "       color = \"Company\") +  # Add labels\n",
        "  theme_minimal()  # Use a minimal theme\n",
        "\n",
        "# Display the plot\n",
        "print(p)"
      ],
      "metadata": {
        "id": "SrMu1nWcfoHY"
      },
      "execution_count": null,
      "outputs": []
    },
    {
      "cell_type": "code",
      "source": [
        "#####################################################################################################"
      ],
      "metadata": {
        "id": "t0XPbrU-foKX"
      },
      "execution_count": null,
      "outputs": []
    },
    {
      "cell_type": "code",
      "source": [
        "# Load ggplot2 library\n",
        "library(ggplot2)\n",
        "\n",
        "# Sample data for demonstration\n",
        "df_solution <- data.frame(\n",
        "  fiscalDateEnding = as.Date(c(\"2024-01-01\", \"2024-04-01\", \"2024-07-01\")),\n",
        "  netIncome = c(3456789, 12345678, 9876543)\n",
        ")\n",
        "\n",
        "# Plot with logarithmic transformation on both axes and linear regression line\n",
        "p <- ggplot(df_solution, aes(x = fiscalDateEnding, y = netIncome)) +\n",
        "  geom_point() +\n",
        "  geom_smooth(method = \"lm\") +\n",
        "  scale_y_log10() +\n",
        "  labs(\n",
        "    title = \"Log-Transformed Plot of Fiscal Date vs. Net Income with Linear Trend\",\n",
        "    x = \"Fiscal Date Ending\",\n",
        "    y = \"Net Income (Log Scale)\"\n",
        "  )\n",
        "\n",
        "# Display the plot\n",
        "print(p)\n"
      ],
      "metadata": {
        "id": "P_xc2FAefoP_"
      },
      "execution_count": null,
      "outputs": []
    },
    {
      "cell_type": "code",
      "source": [
        "# Load ggplot2 library\n",
        "library(ggplot2)\n",
        "\n",
        "# 1. Stacked Bar Chart\n",
        "stacked_bar <- ggplot(mtcars, aes(x = factor(1), fill = factor(cyl))) +\n",
        "  geom_bar(width = 1) +\n",
        "  labs(title = \"Stacked Bar Chart\", fill = \"Cylinder Count\") +\n",
        "  xlab(\"\") +\n",
        "  ylab(\"Count\")\n",
        "\n",
        "print(stacked_bar)\n",
        "\n",
        "# 2. Pie Chart\n",
        "pie_chart <- stacked_bar +\n",
        "  coord_polar(theta = \"y\") +\n",
        "  labs(title = \"Pie Chart of Cylinder Count in mtcars\")\n",
        "\n",
        "print(pie_chart)\n",
        "\n",
        "# 3. Bullseye Chart (Radial with x as angle and y as radius)\n",
        "bullseye_chart <- stacked_bar +\n",
        "  coord_polar() +\n",
        "  labs(title = \"Bullseye Chart of Cylinder Count\")\n",
        "\n",
        "print(bullseye_chart)\n"
      ],
      "metadata": {
        "id": "Ymd_vQVkfoS2"
      },
      "execution_count": null,
      "outputs": []
    },
    {
      "cell_type": "code",
      "source": [],
      "metadata": {
        "id": "hIW6-t5VfoYV"
      },
      "execution_count": null,
      "outputs": []
    },
    {
      "source": [
        "# Load the iris dataset\n",
        "data(\"iris\")\n",
        "\n",
        "# View the first few rows of the dataset\n",
        "head(iris)\n",
        "\n",
        "# Get a summary of the dataset\n",
        "summary(iris)\n",
        "\n",
        "# Load ggplot2 library for plotting\n",
        "library(ggplot2)\n",
        "\n",
        "# Scatter plot of Sepal.Length vs Sepal.Width, colored by Species\n",
        "plot_iris <- ggplot(iris, aes(x = Sepal.Length, y = Sepal.Width, color = Species)) +\n",
        "  geom_point(size = 3) +\n",
        "  labs(\n",
        "    title = \"Sepal Dimensions in Iris Dataset\",\n",
        "    x = \"Sepal Length\",\n",
        "    y = \"Sepal Width\"\n",
        "  ) +\n",
        "  theme_minimal()  # Use a minimal theme\n",
        "\n",
        "# Display the plot\n",
        "print(plot_iris)\n",
        "\n"
      ],
      "cell_type": "code",
      "metadata": {
        "id": "qixWP-6nCVx2"
      },
      "execution_count": null,
      "outputs": []
    },
    {
      "cell_type": "code",
      "source": [
        "View(iris)"
      ],
      "metadata": {
        "id": "0u4DIZGu5UI8"
      },
      "execution_count": null,
      "outputs": []
    },
    {
      "cell_type": "code",
      "source": [
        "ggplot(iris , mapping = aes(x = Sepal.Length , y = Sepal.Width)) + geom_point()"
      ],
      "metadata": {
        "id": "DE8j2afF5UTa"
      },
      "execution_count": null,
      "outputs": []
    },
    {
      "cell_type": "code",
      "source": [
        "ggplot(iris , mapping = aes(x = Sepal.Length , y = Sepal.Width)) + geom_density_2d()"
      ],
      "metadata": {
        "id": "QWkHVkx95UXm"
      },
      "execution_count": null,
      "outputs": []
    },
    {
      "cell_type": "code",
      "source": [
        "ggplot(iris , mapping = aes(x = Sepal.Length , y = Sepal.Width)) + geom_bin2d()"
      ],
      "metadata": {
        "id": "miy-Vk4c5Uaz"
      },
      "execution_count": null,
      "outputs": []
    },
    {
      "cell_type": "code",
      "source": [
        "# Load ggplot2 library\n",
        "library(ggplot2)\n",
        "\n",
        "# Create a 2D bin plot for Sepal.Length vs Sepal.Width\n",
        "ggplot(data = iris, mapping = aes(x = Sepal.Length, y = Sepal.Width)) +\n",
        "  geom_bin_2d(bins = 15) +  # Specify the number of bins\n",
        "  scale_fill_gradient(low = \"lightblue\", high = \"darkblue\") +  # Customize color gradient\n",
        "  labs(\n",
        "    title = \"2D Binned Heatmap of Sepal Dimensions\",\n",
        "    x = \"Sepal Length\",\n",
        "    y = \"Sepal Width\",\n",
        "    fill = \"Count\"  # Label for the color legend\n",
        "  ) +\n",
        "  theme_minimal()  # Apply a minimal theme\n"
      ],
      "metadata": {
        "id": "SbqiKEE15Udr"
      },
      "execution_count": null,
      "outputs": []
    },
    {
      "cell_type": "code",
      "source": [
        "# Load necessary libraries\n",
        "library(ggplot2)\n",
        "library(MASS)  # For density estimation\n",
        "\n",
        "# Calculate a 2D density estimate based on Sepal.Length and Sepal.Width\n",
        "density_data <- kde2d(iris$Sepal.Length, iris$Sepal.Width, n = 100)\n",
        "\n",
        "# Convert density data to a data frame for ggplot2\n",
        "density_df <- expand.grid(x = density_data$x, y = density_data$y)\n",
        "density_df$z <- as.vector(density_data$z)\n",
        "\n",
        "# Plot the filled contour plot using density estimates\n",
        "ggplot(data = density_df, aes(x = x, y = y, z = z)) +\n",
        "  geom_contour_filled() +\n",
        "  scale_fill_viridis_d(option = \"plasma\") +\n",
        "  labs(\n",
        "    title = \"Filled Contour Plot of Sepal Dimensions Density\",\n",
        "    x = \"Sepal Length\",\n",
        "    y = \"Sepal Width\",\n",
        "    fill = \"Density\"\n",
        "  ) +\n",
        "  theme_minimal()\n"
      ],
      "metadata": {
        "id": "MiP1oRdl5UhC"
      },
      "execution_count": null,
      "outputs": []
    },
    {
      "cell_type": "code",
      "source": [
        "# Load necessary libraries\n",
        "library(ggplot2)\n",
        "library(MASS)  # For kernel density estimation\n",
        "\n",
        "# Calculate a 2D density estimate for Sepal.Length and Sepal.Width\n",
        "density_data <- kde2d(iris$Sepal.Length, iris$Sepal.Width, n = 100)\n",
        "\n",
        "# Convert the density data to a data frame\n",
        "density_df <- expand.grid(x = density_data$x, y = density_data$y)\n",
        "density_df$z <- as.vector(density_data$z)\n",
        "\n",
        "# Create the contour plot using the density estimate\n",
        "ggplot(data = density_df, aes(x = x, y = y, z = z)) +\n",
        "  geom_contour() +\n",
        "  scale_fill_viridis_c(option = \"plasma\") +  # Use a color gradient for filled contours\n",
        "  labs(\n",
        "    title = \"Density Contour Plot of Sepal Dimensions\",\n",
        "    x = \"Sepal Length\",\n",
        "    y = \"Sepal Width\",\n",
        "    fill = \"Density\"  # Label for the color legend\n",
        "  ) +\n",
        "  theme_minimal()\n"
      ],
      "metadata": {
        "id": "oirwF1U05UkV"
      },
      "execution_count": null,
      "outputs": []
    },
    {
      "cell_type": "code",
      "source": [
        "# Load ggplot2 library\n",
        "library(ggplot2)\n",
        "\n",
        "# Create a scatterplot for Sepal.Length vs Sepal.Width\n",
        "ggplot(iris, mapping = aes(x = Sepal.Length, y = Sepal.Width)) +\n",
        "  geom_point(color = \"blue\", size = 2) +  # Scatter plot points\n",
        "  labs(\n",
        "    title = \"Scatterplot of Sepal Dimensions\",\n",
        "    x = \"Sepal Length\",\n",
        "    y = \"Sepal Width\"\n",
        "  ) +\n",
        "  theme_minimal()  # Apply a minimal theme\n"
      ],
      "metadata": {
        "id": "51bc2uHBMR0I"
      },
      "execution_count": null,
      "outputs": []
    },
    {
      "cell_type": "code",
      "source": [
        "# Install quantreg package if not already installed\n",
        "if (!require(quantreg)) install.packages(\"quantreg\")\n",
        "\n",
        "# Load ggplot2 and quantreg libraries\n",
        "library(ggplot2)\n",
        "library(quantreg)\n",
        "\n",
        "# Create a scatterplot with quantile regression lines\n",
        "ggplot(iris, mapping = aes(x = Sepal.Length, y = Sepal.Width )) +\n",
        "  geom_point(color = \"blue\", size = 2) +  # Scatter plot points\n",
        "  geom_quantile(quantiles = c(0.25, 0.5, 0.75), color = \"red\", linewidth = 1) +  # Add quantile regression lines\n",
        "  labs(\n",
        "    title = \"Scatterplot of Sepal Dimensions with Quantile Regression Lines\",\n",
        "    x = \"Sepal Length\",\n",
        "    y = \"Sepal Width\"\n",
        "  ) +\n",
        "  theme_minimal()  # Apply a minimal theme\n"
      ],
      "metadata": {
        "id": "t8J8Z-fgZGMv"
      },
      "execution_count": null,
      "outputs": []
    },
    {
      "cell_type": "code",
      "source": [
        "# Install quantreg package if not already installed\n",
        "if (!require(quantreg)) install.packages(\"quantreg\")\n",
        "\n",
        "# Load ggplot2 and quantreg libraries\n",
        "library(ggplot2)\n",
        "library(quantreg)\n",
        "\n",
        "# Create a scatterplot with quantile regression lines, colored by species\n",
        "ggplot(iris, mapping = aes(x = Sepal.Length, y = Sepal.Width, col = Species)) +\n",
        "  geom_point(size = 2) +  # Scatter plot points colored by species\n",
        "  geom_quantile(quantiles = c(0.25, 0.5, 0.75), color = \"red\", linewidth = 1) +  # Add quantile regression lines\n",
        "  labs(\n",
        "    title = \"Scatterplot of Sepal Dimensions with Quantile Regression Lines\",\n",
        "    x = \"Sepal Length\",\n",
        "    y = \"Sepal Width\",\n",
        "    color = \"Species\"  # Legend label for species\n",
        "  ) +\n",
        "  theme_minimal()  # Apply a minimal theme\n"
      ],
      "metadata": {
        "id": "YhdQWUanxz9Z"
      },
      "execution_count": null,
      "outputs": []
    },
    {
      "cell_type": "code",
      "source": [
        "ggplot(iris , mapping = aes(x = Sepal.Length , y = Sepal.Width)) + geom_jitter()"
      ],
      "metadata": {
        "id": "qUfVrr9GZEUH"
      },
      "execution_count": null,
      "outputs": []
    },
    {
      "cell_type": "code",
      "source": [
        "# Load ggplot2 library\n",
        "library(ggplot2)\n",
        "\n",
        "# Create a Q-Q plot for Sepal.Length to check normality\n",
        "ggplot(iris, mapping = aes(sample = Sepal.Length)) +\n",
        "  geom_qq_line(color = \"blue\") +  # Add Q-Q line\n",
        "  geom_qq(color = \"red\") +        # Add Q-Q points\n",
        "  labs(\n",
        "    title = \"Q-Q Plot of Sepal Length\",\n",
        "    x = \"Theoretical Quantiles\",\n",
        "    y = \"Sample Quantiles\"\n",
        "  ) +\n",
        "  theme_minimal()  # Apply a minimal theme\n"
      ],
      "metadata": {
        "id": "q-1B_K--UAxv"
      },
      "execution_count": null,
      "outputs": []
    },
    {
      "cell_type": "code",
      "source": [
        "# Install quantreg package if not already installed\n",
        "if (!require(quantreg)) install.packages(\"quantreg\")\n",
        "\n",
        "# Load ggplot2 and quantreg libraries\n",
        "library(ggplot2)\n",
        "library(quantreg)\n",
        "\n",
        "# Create a scatterplot with quantile regression lines, colored by species\n",
        "ggplot(iris, mapping = aes(x = Sepal.Length, y = Sepal.Width, shape = Species)) +\n",
        "  geom_point(size = 2) +  # Scatter plot points colored by species\n",
        "  geom_quantile(quantiles = c(0.25, 0.5, 0.75), color = \"red\", linewidth = 1) +  # Add quantile regression lines\n",
        "  labs(\n",
        "    title = \"Scatterplot of Sepal Dimensions with Quantile Regression Lines\",\n",
        "    x = \"Sepal Length\",\n",
        "    y = \"Sepal Width\",\n",
        "    color = \"Species\"  # Legend label for species\n",
        "  ) +\n",
        "  theme_minimal()  # Apply a minimal theme\n"
      ],
      "metadata": {
        "id": "M4xPR68htf_1"
      },
      "execution_count": null,
      "outputs": []
    },
    {
      "cell_type": "code",
      "source": [
        "# Install quantreg package if not already installed\n",
        "if (!require(quantreg)) install.packages(\"quantreg\")\n",
        "\n",
        "# Load ggplot2 and quantreg libraries\n",
        "library(ggplot2)\n",
        "library(quantreg)\n",
        "\n",
        "# Create a scatterplot with quantile regression lines, colored by species\n",
        "ggplot(iris, mapping = aes(x = Sepal.Length, y = Sepal.Width, size = Species)) +\n",
        "  geom_point(size = 2) +  # Scatter plot points colored by species\n",
        "  geom_quantile(quantiles = c(0.25, 0.5, 0.75), color = \"red\", linewidth = 1) +  # Add quantile regression lines\n",
        "  labs(\n",
        "    title = \"Scatterplot of Sepal Dimensions with Quantile Regression Lines\",\n",
        "    x = \"Sepal Length\",\n",
        "    y = \"Sepal Width\",\n",
        "    color = \"Species\"  # Legend label for species\n",
        "  ) +\n",
        "  theme_minimal()  # Apply a minimal theme\n"
      ],
      "metadata": {
        "id": "L88UOv0dYuEY"
      },
      "execution_count": null,
      "outputs": []
    },
    {
      "cell_type": "code",
      "source": [
        "# Install quantreg package if not already installed\n",
        "if (!require(quantreg)) install.packages(\"quantreg\")\n",
        "\n",
        "# Load ggplot2 and quantreg libraries\n",
        "library(ggplot2)\n",
        "library(quantreg)\n",
        "\n",
        "# Create a scatterplot with quantile regression lines, colored by species\n",
        "ggplot(iris, mapping = aes(x = Sepal.Length, y = Sepal.Width, shape = Species , col = Species )) +\n",
        "  geom_point(size = 2) +  # Scatter plot points colored by species\n",
        "  geom_quantile(quantiles = c(0.25, 0.5, 0.75), color = \"red\", linewidth = 1) +  # Add quantile regression lines\n",
        "  labs(\n",
        "    title = \"Scatterplot of Sepal Dimensions with Quantile Regression Lines\",\n",
        "    x = \"Sepal Length\",\n",
        "    y = \"Sepal Width\",\n",
        "    color = \"Species\"  # Legend label for species\n",
        "  ) +\n",
        "  theme_minimal()  # Apply a minimal theme\n"
      ],
      "metadata": {
        "id": "O-UiHti0Y2rP"
      },
      "execution_count": null,
      "outputs": []
    },
    {
      "cell_type": "code",
      "source": [
        "# Install quantreg package if not already installed\n",
        "if (!require(quantreg)) install.packages(\"quantreg\")\n",
        "\n",
        "# Load ggplot2 and quantreg libraries\n",
        "library(ggplot2)\n",
        "library(quantreg)\n",
        "\n",
        "# Create a scatterplot with quantile regression lines, colored by species\n",
        "p1 <- ggplot(iris, mapping = aes(x = Sepal.Length, y = Sepal.Width, shape = Species , col = Species )) +\n",
        "  geom_point(size = 5) +  # Scatter plot points colored by species\n",
        "  geom_quantile(quantiles = c(0.25, 0.5, 0.75), color = \"red\", linewidth = 1) +  # Add quantile regression lines\n",
        "  labs(\n",
        "    title = \"Scatterplot of Sepal Dimensions with Quantile Regression Lines\",\n",
        "    x = \"Sepal Length\",\n",
        "    y = \"Sepal Width\",\n",
        "    color = \"Species\"  # Legend label for species\n",
        "  ) +\n",
        "  theme_minimal()  # Apply a minimal theme\n"
      ],
      "metadata": {
        "id": "0BBde6FrZfCu"
      },
      "execution_count": null,
      "outputs": []
    },
    {
      "cell_type": "code",
      "source": [
        "print(p1)"
      ],
      "metadata": {
        "id": "3VmZVs9CbXah"
      },
      "execution_count": null,
      "outputs": []
    },
    {
      "cell_type": "code",
      "source": [
        "# saving pdf\n",
        "ggsave(\"mpg.pdf\" , plot = p1 , height = 5 , width = 6 , units = \"in\")"
      ],
      "metadata": {
        "id": "4bzZpHZZf1uX"
      },
      "execution_count": null,
      "outputs": []
    },
    {
      "cell_type": "code",
      "source": [
        "ggplot(iris , mapping = aes(x = Sepal.Length , y = Sepal.Width , col = Species)) +\n",
        "  geom_point() +\n",
        "  facet_wrap(~iris$Species )"
      ],
      "metadata": {
        "id": "TjoGH_vImKg6"
      },
      "execution_count": null,
      "outputs": []
    },
    {
      "cell_type": "code",
      "source": [
        "ggplot(iris , mapping = aes(x = Sepal.Length , y = Sepal.Width , col = Species)) +\n",
        "  geom_point() +\n",
        "  facet_wrap(~iris$Species , ncol = 2) +\n",
        "  theme_bw()"
      ],
      "metadata": {
        "id": "h-kKDQWOgcWO"
      },
      "execution_count": null,
      "outputs": []
    },
    {
      "cell_type": "code",
      "source": [
        "ggplot(iris , mapping = aes(x = Sepal.Length , y = Sepal.Width , col = Species)) +\n",
        "  geom_point() +\n",
        "  facet_wrap(~iris$Species , ncol = 2) +\n",
        "  theme_dark()"
      ],
      "metadata": {
        "id": "Oah-rR7KjQ4h"
      },
      "execution_count": null,
      "outputs": []
    },
    {
      "cell_type": "code",
      "source": [
        "ggplot(iris , mapping = aes(x = Sepal.Length , y = Sepal.Width , col = Species)) +\n",
        "  geom_point() +\n",
        "  facet_wrap(~iris$Species , ncol = 2) +\n",
        "  theme_classic()"
      ],
      "metadata": {
        "id": "ZE8PeG3ymcQi"
      },
      "execution_count": null,
      "outputs": []
    },
    {
      "cell_type": "code",
      "source": [
        "ggplot(iris , mapping = aes(x = Sepal.Length , y = Sepal.Width , col = Species)) +\n",
        "geom_point() +\n",
        "facet_wrap(~iris$Species , ncol = 2) +\n",
        "theme_classic()+\n",
        "labs(\n",
        "    title = \"Scatterplot of Sepal Dimensions with Quantile Regression Lines\",\n",
        "    x = \"Sepal Is Length\",\n",
        "    y = \"Sepal Is Width\",\n",
        "    color = \"Species\"  # Legend label for species\n",
        ")"
      ],
      "metadata": {
        "id": "wNVB3K7Cm4l5"
      },
      "execution_count": null,
      "outputs": []
    },
    {
      "cell_type": "markdown",
      "source": [
        "# **Data Transformation in R**"
      ],
      "metadata": {
        "id": "EnjClAhsU4Ro"
      }
    },
    {
      "cell_type": "code",
      "source": [
        "install.packages(\"nycflights13\", dependencies = TRUE)\n",
        "library(nycflights13)\n",
        "library(tidyverse)\n",
        "\n",
        "df <- nycflights13 :: flights"
      ],
      "metadata": {
        "id": "fWJ-410aF-hm"
      },
      "execution_count": null,
      "outputs": []
    },
    {
      "cell_type": "code",
      "source": [
        "summary(df)"
      ],
      "metadata": {
        "id": "9qvdEl8QSTjl"
      },
      "execution_count": null,
      "outputs": []
    },
    {
      "cell_type": "code",
      "source": [
        "filter(df , month==1 , day==1)"
      ],
      "metadata": {
        "id": "dZ7cSgHGSZ-1"
      },
      "execution_count": null,
      "outputs": []
    },
    {
      "cell_type": "code",
      "source": [
        "filter(df , month==1 , day==1 , carrier==\"UA\")"
      ],
      "metadata": {
        "id": "g7pKnqiLAlEI"
      },
      "execution_count": null,
      "outputs": []
    },
    {
      "cell_type": "code",
      "source": [
        "filter(df , month==1:2)"
      ],
      "metadata": {
        "id": "AwyVkg88AlSC"
      },
      "execution_count": null,
      "outputs": []
    },
    {
      "cell_type": "code",
      "source": [
        "filter(df , month %in% c(1,2))"
      ],
      "metadata": {
        "id": "nXhOW9nDAlbY"
      },
      "execution_count": null,
      "outputs": []
    },
    {
      "cell_type": "code",
      "source": [
        "filter(df, month == 1 | month == 2)\n"
      ],
      "metadata": {
        "id": "2xatj0-bAlkw"
      },
      "execution_count": null,
      "outputs": []
    },
    {
      "cell_type": "code",
      "source": [
        "filter(df, arr_delay > 120)\n"
      ],
      "metadata": {
        "id": "FoPae5QlCjI9"
      },
      "execution_count": null,
      "outputs": []
    },
    {
      "cell_type": "code",
      "source": [
        "filter(df, arr_delay > 180)\n"
      ],
      "metadata": {
        "id": "0g3CmpA9CjR9"
      },
      "execution_count": null,
      "outputs": []
    },
    {
      "cell_type": "code",
      "source": [
        "filter(df, arr_delay > 120 & arr_delay < 300)\n"
      ],
      "metadata": {
        "id": "QLG1X9oXCja1"
      },
      "execution_count": null,
      "outputs": []
    },
    {
      "source": [
        "# Sample data\n",
        "data <- df$month\n",
        "\n",
        "# Converting numbers to month names using ifelse\n",
        "# Instead of data$month_name, use data directly since it's a vector\n",
        "month_name <- ifelse(data == 1, \"January\",\n",
        "                   ifelse(data == 2, \"February\",\n",
        "                   ifelse(data == 3, \"March\",\n",
        "                   ifelse(data == 4, \"April\",\n",
        "                   ifelse(data == 5, \"May\",\n",
        "                   ifelse(data == 6, \"June\",\n",
        "                   ifelse(data == 7, \"July\",\n",
        "                   ifelse(data == 8, \"August\",\n",
        "                   ifelse(data == 9, \"September\",\n",
        "                   ifelse(data == 10, \"October\",\n",
        "                   ifelse(data == 11, \"November\", \"December\")))))))))))\n",
        "\n",
        "# Create a data frame with the original month numbers and month names\n",
        "data <- data.frame(month = df$month, month_name = month_name)\n",
        "\n"
      ],
      "cell_type": "code",
      "metadata": {
        "id": "Z8f-rxqhdFHs"
      },
      "execution_count": null,
      "outputs": []
    },
    {
      "cell_type": "code",
      "source": [
        "# Assuming both `df` and `data$month_name` have the same number of rows\n",
        "combined_data <- df %>%\n",
        "  mutate(month_name = data$month_name)\n",
        "\n",
        "print(combined_data)\n"
      ],
      "metadata": {
        "id": "11JM8WV5fdxi"
      },
      "execution_count": null,
      "outputs": []
    },
    {
      "cell_type": "code",
      "source": [
        "view(combined_data)"
      ],
      "metadata": {
        "id": "qAyUXVW8fkAZ"
      },
      "execution_count": null,
      "outputs": []
    },
    {
      "cell_type": "code",
      "source": [
        "filter(combined_data , month==4 , day==1)"
      ],
      "metadata": {
        "id": "E6WT4FBegfcY"
      },
      "execution_count": null,
      "outputs": []
    },
    {
      "cell_type": "markdown",
      "source": [
        "# **The Desired Data Type**"
      ],
      "metadata": {
        "id": "gn-TBeEUgoTQ"
      }
    },
    {
      "cell_type": "code",
      "source": [
        "combined_data$year <- as.numeric(combined_data$year)\n"
      ],
      "metadata": {
        "id": "dFrlQruHgnSv"
      },
      "execution_count": null,
      "outputs": []
    },
    {
      "cell_type": "code",
      "source": [
        "combined_data"
      ],
      "metadata": {
        "id": "oigiCjJdhcwu"
      },
      "execution_count": null,
      "outputs": []
    },
    {
      "cell_type": "code",
      "source": [
        "# Convert a column to integer type\n",
        "combined_data$year <- as.integer(combined_data$year)\n"
      ],
      "metadata": {
        "id": "gLI3lTZzht_k"
      },
      "execution_count": null,
      "outputs": []
    },
    {
      "cell_type": "code",
      "source": [
        "combined_data"
      ],
      "metadata": {
        "id": "BN45NzqChsLl"
      },
      "execution_count": null,
      "outputs": []
    },
    {
      "cell_type": "code",
      "source": [
        "# df$column_name <- as.character(df$column_name)\n"
      ],
      "metadata": {
        "id": "lWfwXoyCgncr"
      },
      "execution_count": null,
      "outputs": []
    },
    {
      "cell_type": "code",
      "source": [
        "# df$column_name <- as.factor(df$column_name)\n"
      ],
      "metadata": {
        "id": "J4zIEk7Cgngf"
      },
      "execution_count": null,
      "outputs": []
    },
    {
      "cell_type": "code",
      "source": [
        "# df$column_name <- as.Date(df$column_name, format = \"%Y-%m-%d\")\n"
      ],
      "metadata": {
        "id": "nJdAcbRhgnjg"
      },
      "execution_count": null,
      "outputs": []
    },
    {
      "cell_type": "code",
      "source": [
        "# df$column_name <- as.Date(df$column_name, format = \"%m/%d/%Y\")\n"
      ],
      "metadata": {
        "id": "bZEow6V8gnmV"
      },
      "execution_count": null,
      "outputs": []
    },
    {
      "cell_type": "code",
      "source": [
        "# df$column_name <- as.POSIXct(df$column_name, format = \"%Y-%m-%d %H:%M:%S\")\n"
      ],
      "metadata": {
        "id": "3fZbmkROgnpp"
      },
      "execution_count": null,
      "outputs": []
    },
    {
      "cell_type": "markdown",
      "source": [
        "#**Missing Values with all**"
      ],
      "metadata": {
        "id": "SONeiWu5rjlC"
      }
    },
    {
      "cell_type": "code",
      "source": [
        "sum(is.na(combined_data))\n"
      ],
      "metadata": {
        "id": "H0CjfV1uplgk"
      },
      "execution_count": null,
      "outputs": []
    },
    {
      "cell_type": "code",
      "source": [
        "colSums(is.na(combined_data))\n"
      ],
      "metadata": {
        "id": "-cagtlx3pmZ-"
      },
      "execution_count": null,
      "outputs": []
    },
    {
      "cell_type": "code",
      "source": [
        "colMeans(is.na(combined_data)) * 100\n"
      ],
      "metadata": {
        "id": "91m8qWC3pmfC"
      },
      "execution_count": null,
      "outputs": []
    },
    {
      "source": [
        "install.packages(\"VIM\") # Install the VIM package\n",
        "library(VIM) # Load the VIM package\n",
        "\n",
        "#Your existing R code\n",
        "aggr(combined_data, col = c(\"navyblue\", \"yellow\"), numbers = TRUE, sortVars = TRUE,\n",
        "     labels = names(combined_data), cex.axis = 0.7, gap = 3, ylab = c(\"Missing Data\", \"Pattern\"))"
      ],
      "cell_type": "code",
      "metadata": {
        "id": "iyqsVZyBqxY5"
      },
      "execution_count": null,
      "outputs": []
    },
    {
      "source": [
        "# Install the package if you haven't already\n",
        "if(!require(naniar)){\n",
        "  install.packages(\"naniar\")\n",
        "}\n",
        "\n",
        "# Load the package\n",
        "library(naniar)\n",
        "\n",
        "# Now you can use the functions from naniar\n",
        "gg_miss_var(combined_data)  # Shows missing data per variable\n",
        "gg_miss_upset(combined_data) # Shows combinations of missing data"
      ],
      "cell_type": "code",
      "metadata": {
        "id": "fpbesseetKql"
      },
      "execution_count": null,
      "outputs": []
    },
    {
      "cell_type": "code",
      "source": [
        "combined_data [!complete.cases(combined_data), ]\n"
      ],
      "metadata": {
        "id": "dY8KQYpHq18_"
      },
      "execution_count": null,
      "outputs": []
    },
    {
      "source": [
        "missing_summary <- data.frame(\n",
        "  Column = names(combined_data),\n",
        "  MissingCount = colSums(is.na(combined_data)),\n",
        "  MissingPercentage = colMeans(is.na(combined_data)) * 100\n",
        ")\n",
        "\n",
        "print(missing_summary)"
      ],
      "cell_type": "code",
      "metadata": {
        "id": "SJil2bjOuxm5"
      },
      "execution_count": null,
      "outputs": []
    },
    {
      "cell_type": "markdown",
      "source": [
        "# **Removing Missing Data**"
      ],
      "metadata": {
        "id": "QfORcrh6sIqm"
      }
    },
    {
      "cell_type": "code",
      "source": [
        "cleaned_data <- na.omit(combined_data)\n"
      ],
      "metadata": {
        "id": "MHB3l0SSrLEq"
      },
      "execution_count": null,
      "outputs": []
    },
    {
      "cell_type": "code",
      "source": [
        "cleaned_data <- combined_data[!is.na(combined_data$arr_delay), ]\n"
      ],
      "metadata": {
        "id": "yH0WTPSWsSS0"
      },
      "execution_count": null,
      "outputs": []
    },
    {
      "cell_type": "code",
      "source": [
        "cleaned_data <- combined_data[, colMeans(is.na(combined_data)) < 0.5]\n"
      ],
      "metadata": {
        "id": "0mlY6m6FsSrx"
      },
      "execution_count": null,
      "outputs": []
    },
    {
      "cell_type": "code",
      "source": [
        "cleaned_data"
      ],
      "metadata": {
        "id": "RwFwowu8vSgr"
      },
      "execution_count": null,
      "outputs": []
    },
    {
      "cell_type": "markdown",
      "source": [
        "# **Imputation of Missing Data**"
      ],
      "metadata": {
        "id": "e1sMD6GhsaFq"
      }
    },
    {
      "cell_type": "code",
      "source": [
        "cleaned_data$arr_delay[is.na(cleaned_data$arr_delay)] <- mean(cleaned_data$arr_delay, na.rm = TRUE)\n"
      ],
      "metadata": {
        "id": "XzzhUTsfsSvK"
      },
      "execution_count": null,
      "outputs": []
    },
    {
      "cell_type": "code",
      "source": [
        "cleaned_data$arr_delay[is.na(cleaned_data$arr_delay)] <- median(cleaned_data$arr_delay, na.rm = TRUE)\n"
      ],
      "metadata": {
        "id": "QX-zwRFqsSyL"
      },
      "execution_count": null,
      "outputs": []
    },
    {
      "cell_type": "code",
      "source": [
        "get_mode <- function(v) {\n",
        "  uniqv <- unique(v)\n",
        "  uniqv[which.max(tabulate(match(v, uniqv)))]\n",
        "}\n",
        "daf <- cleaned_data$arr_delay[is.na(cleaned_data$arr_delay)] <- get_mode(cleaned_data$arr_delay)\n"
      ],
      "metadata": {
        "id": "_TqTVXx2sS1B"
      },
      "execution_count": null,
      "outputs": []
    },
    {
      "cell_type": "code",
      "source": [
        "daf"
      ],
      "metadata": {
        "id": "lJpwnZ9WsS30"
      },
      "execution_count": null,
      "outputs": []
    },
    {
      "cell_type": "markdown",
      "source": [
        "# **END With Values**"
      ],
      "metadata": {
        "id": "KrZ9WiVLwqsh"
      }
    },
    {
      "cell_type": "code",
      "source": [
        "ggplot(combined_data , mapping = aes(x = combined_data$dep_time  , y = combined_data$sched_dep_time , col= combined_data$carrier)) + geom_point()"
      ],
      "metadata": {
        "id": "vt4vZL18d2sN"
      },
      "execution_count": null,
      "outputs": []
    },
    {
      "cell_type": "code",
      "source": [
        "ggplot(combined_data , mapping = aes(x = combined_data$dep_time  , y = combined_data$sched_dep_time , col= combined_data$carrier)) +\n",
        "  geom_point() +\n",
        "  facet_wrap(~combined_data$carrier , ncol = 4) +\n",
        "  theme_classic()"
      ],
      "metadata": {
        "id": "JVtH7WlSg7UX"
      },
      "execution_count": null,
      "outputs": []
    },
    {
      "cell_type": "code",
      "source": [
        "ggplot(combined_data , mapping = aes(x = combined_data$dep_time  , y = combined_data$sched_dep_time , col= combined_data$month_name)) +\n",
        "  geom_point() +\n",
        "  facet_wrap(~combined_data$month_name , ncol = 4) +\n",
        "  theme_classic()"
      ],
      "metadata": {
        "id": "xRDOY4p8kxUP"
      },
      "execution_count": null,
      "outputs": []
    },
    {
      "cell_type": "code",
      "source": [
        "library(ggplot2)\n",
        "\n",
        "ggplot(combined_data, mapping = aes(x = dep_time, y = sched_dep_time, color = carrier)) +\n",
        "  geom_point() +\n",
        "  facet_wrap(~ carrier, ncol = 4) +\n",
        "  theme_classic() +\n",
        "  theme(\n",
        "    strip.background = element_rect(fill = \"red\"),\n",
        "    strip.text = element_text(color = \"white\")\n",
        "  ) +\n",
        "  labs(\n",
        "    title = \"Scheduled vs. Actual Departure Time\",\n",
        "    x = \"Departure Time\",\n",
        "    y = \"Scheduled Departure Time\",\n",
        "    color = \"Month\"\n",
        "  )\n"
      ],
      "metadata": {
        "id": "AxDPfbkjn2ww"
      },
      "execution_count": null,
      "outputs": []
    },
    {
      "cell_type": "code",
      "source": [
        "combined_data"
      ],
      "metadata": {
        "id": "zrhZ-KISSJTs"
      },
      "execution_count": null,
      "outputs": []
    },
    {
      "cell_type": "code",
      "source": [
        "install.packages(\"nycflights13\", dependencies = TRUE)\n",
        "library(nycflights13)\n",
        "library(tidyverse)\n",
        "\n",
        "df <- nycflights13 :: flights"
      ],
      "metadata": {
        "id": "Cnm7WTcHo367"
      },
      "execution_count": null,
      "outputs": []
    },
    {
      "cell_type": "code",
      "source": [
        "summary(df)"
      ],
      "metadata": {
        "id": "cw0yCaxefYBC"
      },
      "execution_count": null,
      "outputs": []
    },
    {
      "cell_type": "code",
      "source": [
        "glimpse(df)"
      ],
      "metadata": {
        "id": "iBWA1zSffauC"
      },
      "execution_count": null,
      "outputs": []
    },
    {
      "cell_type": "code",
      "source": [
        "data (\"iris\")"
      ],
      "metadata": {
        "id": "iENNJ5UEfhcB"
      },
      "execution_count": null,
      "outputs": []
    },
    {
      "cell_type": "code",
      "source": [
        "\n",
        "\n",
        "print(iris)"
      ],
      "metadata": {
        "id": "OsO8Iiq1p0_s"
      },
      "execution_count": null,
      "outputs": []
    },
    {
      "cell_type": "code",
      "source": [
        "iris %>%\n",
        " group_by(Species) %>%\n",
        " summarise(avg = mean(iris$Sepal.Width))%>%\n",
        " arrange(avg)"
      ],
      "metadata": {
        "id": "PpYoZUelp5GM"
      },
      "execution_count": null,
      "outputs": []
    },
    {
      "cell_type": "code",
      "source": [
        "# This is wrong code\n",
        "df %>%\n",
        " group_by(carrier) %>%\n",
        " summarise(mean(df$hour))"
      ],
      "metadata": {
        "id": "JZq-3pr2qCyM"
      },
      "execution_count": null,
      "outputs": []
    },
    {
      "cell_type": "code",
      "source": [
        "# This is wrong code\n",
        "df %>%\n",
        "  group_by(carrier) %>%\n",
        "  summarise(mean_air_time = mean(df$air_time, na.rm = TRUE))\n"
      ],
      "metadata": {
        "id": "D5m1EKTOs7-m"
      },
      "execution_count": null,
      "outputs": []
    },
    {
      "cell_type": "code",
      "source": [
        "df %>%\n",
        "  group_by(carrier) %>%\n",
        "  summarise(mean_hours = mean(hour, na.rm = TRUE))\n"
      ],
      "metadata": {
        "id": "I-9sL1ndtYZO"
      },
      "execution_count": null,
      "outputs": []
    },
    {
      "cell_type": "code",
      "source": [
        "df %>%\n",
        "  group_by(carrier) %>%\n",
        "  summarise(flight_count = n())\n"
      ],
      "metadata": {
        "id": "nuWe8dGmslcX"
      },
      "execution_count": null,
      "outputs": []
    },
    {
      "cell_type": "code",
      "source": [
        "df %>%\n",
        "  group_by(carrier) %>%\n",
        "  summarise(mean_air_time = mean(air_time, na.rm = TRUE))\n"
      ],
      "metadata": {
        "id": "25Pj1cr_s2-P"
      },
      "execution_count": null,
      "outputs": []
    },
    {
      "cell_type": "code",
      "source": [
        "df"
      ],
      "metadata": {
        "id": "tBOb8vRVy6Qz"
      },
      "execution_count": null,
      "outputs": []
    },
    {
      "cell_type": "code",
      "source": [
        "# Select columns (adjust column names if they differ)\n",
        "df_1 <- df %>% dplyr::select(year,month,day)\n",
        "df_1"
      ],
      "metadata": {
        "id": "J9g2Fj_3z_Y4"
      },
      "execution_count": null,
      "outputs": []
    },
    {
      "cell_type": "code",
      "source": [
        "# Select columns (adjust column names if they differ)\n",
        "df_1 <- df %>% dplyr::select(\"year\",\"month\",\"day\")\n",
        "\n",
        "# View result\n",
        "print(df_1)"
      ],
      "metadata": {
        "id": "F_-J-WDctE_e"
      },
      "execution_count": null,
      "outputs": []
    },
    {
      "source": [
        "# Load the dplyr package\n",
        "library(dplyr)\n",
        "\n",
        "# Check column names\n",
        "print(colnames(df))\n",
        "\n",
        "# Select columns using dplyr::select and backticks for column names\n",
        "df_1 <- df %>% dplyr::select(`year`, `month`, `day`)\n",
        "\n",
        "# View result\n",
        "print(df_1)"
      ],
      "cell_type": "code",
      "metadata": {
        "id": "EJMGByrNzsEn"
      },
      "execution_count": null,
      "outputs": []
    },
    {
      "cell_type": "code",
      "source": [
        "# Select columns (adjust column names if they differ)\n",
        "df_2 <- df %>% dplyr::select(year,month,day) %>% filter(month==1)\n",
        "df_2"
      ],
      "metadata": {
        "id": "dcNhKR2lwxl_"
      },
      "execution_count": null,
      "outputs": []
    },
    {
      "cell_type": "code",
      "source": [
        "# the rename column (df,new_name = load_name)\n",
        "#df <- rename(df , departure_time=dep_time)\n",
        "df <- rename(df , dep_time=departure_time)"
      ],
      "metadata": {
        "id": "rf3V7NDQ0xne"
      },
      "execution_count": null,
      "outputs": []
    },
    {
      "cell_type": "code",
      "source": [
        "df"
      ],
      "metadata": {
        "id": "9ZRGoTDaIV5J"
      },
      "execution_count": null,
      "outputs": []
    },
    {
      "cell_type": "code",
      "source": [
        "# Load dplyr package\n",
        "library(dplyr)\n",
        "\n",
        "# Arrange df by dep_delay and arr_time\n",
        "arrange_df <- df %>% dplyr:: arrange(arr_time)\n"
      ],
      "metadata": {
        "id": "q6a20xVzIW6o"
      },
      "execution_count": null,
      "outputs": []
    },
    {
      "cell_type": "code",
      "source": [
        "arrange_df"
      ],
      "metadata": {
        "id": "kwO8j40cNZdH"
      },
      "execution_count": null,
      "outputs": []
    },
    {
      "cell_type": "code",
      "source": [
        "# Sample data frame\n",
        "library(dplyr)\n",
        "\n",
        "dfs <- data.frame(\n",
        "  group = c(\"A\", \"A\", \"A\", \"B\", \"B\", \"B\"),\n",
        "  value = c(10, 20, 15, 25, 30, 20)\n",
        ")\n"
      ],
      "metadata": {
        "id": "KNbs_BvANbHu"
      },
      "execution_count": null,
      "outputs": []
    },
    {
      "cell_type": "code",
      "source": [
        "dfs"
      ],
      "metadata": {
        "id": "Oq2za29YPZfK"
      },
      "execution_count": null,
      "outputs": []
    },
    {
      "cell_type": "code",
      "source": [
        "\n",
        "\n",
        "# Calculate difference with next row (lead)\n",
        "df22 <- dfs %>%\n",
        "  mutate(\n",
        "    next_value = lead(value),\n",
        "    diff_from_next = value - next_value\n",
        "  )\n",
        "df22"
      ],
      "metadata": {
        "id": "L7qCNpkvPahi"
      },
      "execution_count": null,
      "outputs": []
    },
    {
      "cell_type": "code",
      "source": [
        "# Calculate difference with previous row (lag)\n",
        "df11 <- dfs %>%\n",
        "  mutate(\n",
        "    previous_value = lag(value),\n",
        "    diff_from_previous = value - previous_value\n",
        "  )\n",
        "df11\n"
      ],
      "metadata": {
        "id": "B7NzgLDsPdx6"
      },
      "execution_count": null,
      "outputs": []
    },
    {
      "cell_type": "code",
      "source": [
        "df22"
      ],
      "metadata": {
        "id": "Wj2Q5_IdPkbi"
      },
      "execution_count": null,
      "outputs": []
    },
    {
      "cell_type": "code",
      "source": [
        "# Calculate running total (cumulative sum)\n",
        "df33 <- dfs %>%\n",
        "  mutate(running_total = cumsum(value))\n"
      ],
      "metadata": {
        "id": "7RTCSHQ7Psi5"
      },
      "execution_count": null,
      "outputs": []
    },
    {
      "cell_type": "code",
      "source": [
        "df33"
      ],
      "metadata": {
        "id": "OXscEX48QM4A"
      },
      "execution_count": null,
      "outputs": []
    },
    {
      "cell_type": "code",
      "source": [
        "# Calculate running average\n",
        "df44 <- dfs %>%\n",
        "  mutate(running_avg = cummean(value))\n"
      ],
      "metadata": {
        "id": "NRaYpL_WQQcg"
      },
      "execution_count": null,
      "outputs": []
    },
    {
      "cell_type": "code",
      "source": [
        "df44"
      ],
      "metadata": {
        "id": "E6exRCh1Qe9g"
      },
      "execution_count": null,
      "outputs": []
    },
    {
      "cell_type": "code",
      "source": [
        "\n",
        "# Rank values within each group\n",
        "df55 <- dfs %>%\n",
        "  group_by(group) %>%\n",
        "  mutate(rank_within_group = rank(value)) %>%\n",
        "  ungroup()\n"
      ],
      "metadata": {
        "id": "wpyM2mZMQj8_"
      },
      "execution_count": null,
      "outputs": []
    },
    {
      "cell_type": "code",
      "source": [
        "df55"
      ],
      "metadata": {
        "id": "ZkF89XwRQwsm"
      },
      "execution_count": null,
      "outputs": []
    },
    {
      "source": [
        "# To add a column with row numbers based on the order of the 'arr_time' column:\n",
        "df_with_row_numbers <- df %>%\n",
        "  mutate(row_num = row_number(arr_time))\n",
        "\n",
        "# To simply add a sequential row number column:\n",
        "df_with_row_numbers <- df %>%\n",
        "  mutate(row_num = row_number())"
      ],
      "cell_type": "code",
      "metadata": {
        "id": "zJ9Wt4n9HrUG"
      },
      "execution_count": null,
      "outputs": []
    },
    {
      "cell_type": "code",
      "source": [
        "df_with_row_numbers"
      ],
      "metadata": {
        "id": "nYimLLNCFI-B"
      },
      "execution_count": null,
      "outputs": []
    },
    {
      "cell_type": "code",
      "source": [
        "library(dplyr)\n",
        "\n",
        "cs <- data.frame(\n",
        "  group = c(\"A\", \"A\", \"A\", \"B\", \"B\", \"B\"),\n",
        "  value = c(10, 20, 15, 25, 30, 20)\n",
        ")\n",
        "\n",
        "df1 <- cs %>%\n",
        "  mutate(\n",
        "    previous_value = lag(value),\n",
        "    diff_from_previous = value - previous_value,\n",
        "    next_value = lead(value),\n",
        "    diff_from_next = value - next_value,\n",
        "    running_total = cumsum(value),\n",
        "    running_avg = cummean(value)\n",
        "  ) %>%\n",
        "  group_by(group) %>%\n",
        "  mutate(\n",
        "    rank_within_group = rank(value),\n",
        "    row_number_within_group = row_number(),\n",
        "    running_total_within_group = cumsum(value)\n",
        "  ) %>%\n",
        "  ungroup()\n",
        "\n",
        "print(df1)\n"
      ],
      "metadata": {
        "id": "h_oPiby7HvyZ"
      },
      "execution_count": null,
      "outputs": []
    },
    {
      "cell_type": "code",
      "source": [
        "df1"
      ],
      "metadata": {
        "id": "QbGS4_X0JU0V"
      },
      "execution_count": null,
      "outputs": []
    },
    {
      "cell_type": "code",
      "source": [
        "ggplot(data=df , mapping = aes(x = distance , y = arr_delay , col = carrier))+geom_point()"
      ],
      "metadata": {
        "id": "fvzolrkZJtR8"
      },
      "execution_count": null,
      "outputs": []
    },
    {
      "cell_type": "code",
      "source": [
        "# Install required packages if they are not installed\n",
        "install.packages(\"ggplot2\")\n",
        "install.packages(\"nycflights13\")\n",
        "\n",
        "# Load libraries\n",
        "library(ggplot2)\n",
        "library(nycflights13)\n",
        "library(dplyr)\n",
        "\n",
        "# Load data\n",
        "df <- nycflights13::flights\n"
      ],
      "metadata": {
        "id": "-Bo63v4njplb"
      },
      "execution_count": null,
      "outputs": []
    },
    {
      "cell_type": "code",
      "source": [
        "# Prepare data: Calculate average dep_delay for each day and month\n",
        "heatmap_data <- df %>%\n",
        "  group_by(year, month, day) %>%\n",
        "  summarize(avg_dep_delay = mean(dep_delay, na.rm = TRUE)) %>%\n",
        "  ungroup()\n"
      ],
      "metadata": {
        "id": "vly0qmGJlQrW"
      },
      "execution_count": null,
      "outputs": []
    },
    {
      "cell_type": "code",
      "source": [
        "# Plot heatmap of average departure delay by month and day\n",
        "ggplot(heatmap_data, aes(x = factor(month), y = factor(day), fill = avg_dep_delay)) +\n",
        "  geom_tile(color = \"white\") +\n",
        "  scale_fill_gradient(low = \"lightblue\", high = \"darkred\", na.value = \"gray\") +\n",
        "  labs(title = \"Average Departure Delay by Day and Month\",\n",
        "       x = \"Month\",\n",
        "       y = \"Day\",\n",
        "       fill = \"Avg Delay (min)\") +\n",
        "  theme_minimal() +\n",
        "  theme(axis.text.x = element_text(angle = 45, hjust = 1))\n"
      ],
      "metadata": {
        "id": "hp0lezK7uOEz"
      },
      "execution_count": null,
      "outputs": []
    },
    {
      "cell_type": "code",
      "source": [
        "# Load libraries\n",
        "library(ggplot2)\n",
        "library(lubridate)\n",
        "library(dplyr)\n",
        "\n",
        "# Assuming you have a dataframe 'flights' with columns year, month, day, and hour\n",
        "\n",
        "# Convert relevant columns to appropriate formats\n",
        "flights$date <- as.Date(paste(flights$year, flights$month, flights$day, sep=\"-\"))\n",
        "flights$time_hour <- as.POSIXct(paste(flights$date, flights$hour), format = \"%Y-%m-%d %H\")\n",
        "\n",
        "# Calculate the frequency of flights by hour and day\n",
        "flight_counts <- flights %>%\n",
        "  mutate(day_of_month = day(date)) %>%\n",
        "  group_by(hour, day_of_month) %>%\n",
        "  summarise(flight_count = n()) %>%\n",
        "  ungroup() %>%\n",
        "  mutate(prop = flight_count / sum(flight_count))  # Calculate proportion\n",
        "\n",
        "# Create a heatmap\n",
        "ggplot(flight_counts, aes(x = hour, y = day_of_month)) +\n",
        "  geom_tile(aes(fill = prop), color = \"white\") +\n",
        "  scale_fill_gradient(low = \"white\", high = \"darkblue\") +\n",
        "  labs(x = \"Hour of Day\", y = \"Day of Month\", fill = \"Proportion of Flights\") +\n",
        "  ggtitle(\"Flight Frequency Heatmap\") +\n",
        "  theme_minimal()\n"
      ],
      "metadata": {
        "id": "ZzGVLs1auOUz"
      },
      "execution_count": null,
      "outputs": []
    },
    {
      "cell_type": "markdown",
      "source": [
        "# **normal disrtribution**"
      ],
      "metadata": {
        "id": "5OEhZ-n5G5tN"
      }
    },
    {
      "cell_type": "code",
      "source": [
        "# normal disrtribution\n",
        "histogram(df$distance)\n"
      ],
      "metadata": {
        "id": "Iao1VQG9FCBG"
      },
      "execution_count": null,
      "outputs": []
    },
    {
      "cell_type": "code",
      "source": [
        "qqnorm(df$distance)"
      ],
      "metadata": {
        "id": "GXW0yWuyGfCy"
      },
      "execution_count": null,
      "outputs": []
    },
    {
      "cell_type": "code",
      "source": [
        "normal_data <- rnorm(200)"
      ],
      "metadata": {
        "id": "nuYRq6PRHBHX"
      },
      "execution_count": null,
      "outputs": []
    },
    {
      "cell_type": "code",
      "source": [
        "histogram(normal_data , col=\"blue\")"
      ],
      "metadata": {
        "id": "NsBRV6h0JJSi"
      },
      "execution_count": null,
      "outputs": []
    },
    {
      "cell_type": "code",
      "source": [
        "shapiro.test(normal_data)"
      ],
      "metadata": {
        "id": "K223LZWeJNtz"
      },
      "execution_count": null,
      "outputs": []
    },
    {
      "source": [
        "install.packages(\"corrplot\") # Install the corrplot package\n",
        "library(corrplot) # Load the corrplot package\n",
        "\n",
        "df <- mtcars # Load the mtcars dataset\n",
        "m <- cor(df) # Calculate the correlation matrix\n",
        "\n",
        "corrplot(m) # Create the correlation plot using corrplot"
      ],
      "cell_type": "code",
      "metadata": {
        "id": "M1w_t4rLX814"
      },
      "execution_count": null,
      "outputs": []
    },
    {
      "cell_type": "code",
      "source": [
        "corrplot(m , method = \"number\") # Create the correlation plot using corrplot"
      ],
      "metadata": {
        "id": "rB6gg8vuYcw6"
      },
      "execution_count": null,
      "outputs": []
    },
    {
      "cell_type": "code",
      "source": [
        "corrplot(m , method = \"number\" , order = \"alphabet\") # Create the correlation plot using corrplot"
      ],
      "metadata": {
        "id": "-S5F49t7Yq15"
      },
      "execution_count": null,
      "outputs": []
    },
    {
      "source": [
        "corrplot(m , method = \"shade\" , order = \"alphabet\") # Create the correlation plot using corrplot"
      ],
      "cell_type": "code",
      "metadata": {
        "id": "JYcm-dqZSrP9"
      },
      "execution_count": null,
      "outputs": []
    },
    {
      "cell_type": "code",
      "source": [
        "corrplot(m , method = \"number\" , order = \"alphabet\" , type = \"upper\") # Create the correlation plot using corrplot"
      ],
      "metadata": {
        "id": "GqTYI7YMSlFY"
      },
      "execution_count": null,
      "outputs": []
    },
    {
      "cell_type": "code",
      "source": [
        "corrplot.mixed(m , lower = \"number\" , upper = \"pie\") # Create the correlation plot using corrplot"
      ],
      "metadata": {
        "id": "D1HUlt9kRPi0"
      },
      "execution_count": null,
      "outputs": []
    },
    {
      "cell_type": "code",
      "source": [
        "corrplot(m , order = \"hclus\" , addrect = 2)"
      ],
      "metadata": {
        "id": "RppTKDDdR-2K"
      },
      "execution_count": null,
      "outputs": []
    },
    {
      "cell_type": "code",
      "source": [
        "df"
      ],
      "metadata": {
        "id": "mB0s7UQ0SXR4"
      },
      "execution_count": null,
      "outputs": []
    },
    {
      "cell_type": "code",
      "source": [
        "install.packages(\"nycflights13\", dependencies = TRUE)\n",
        "library(nycflights13)\n",
        "library(tidyverse)\n",
        "\n",
        "df <- nycflights13 :: flights"
      ],
      "metadata": {
        "id": "wG2xJAjjVTnQ"
      },
      "execution_count": null,
      "outputs": []
    },
    {
      "cell_type": "code",
      "source": [
        "df"
      ],
      "metadata": {
        "id": "S4jhLzf-jGj8"
      },
      "execution_count": null,
      "outputs": []
    },
    {
      "source": [
        "colnames(df)"
      ],
      "cell_type": "code",
      "metadata": {
        "id": "3OBNHcu9ikCZ"
      },
      "execution_count": null,
      "outputs": []
    },
    {
      "cell_type": "code",
      "source": [
        "df <- mtcars\n",
        "head(df)"
      ],
      "metadata": {
        "id": "wlGhPxvfkXhW"
      },
      "execution_count": null,
      "outputs": []
    },
    {
      "cell_type": "code",
      "source": [
        "cor(df)"
      ],
      "metadata": {
        "id": "Ie5WhvZTJDTq"
      },
      "execution_count": null,
      "outputs": []
    },
    {
      "cell_type": "code",
      "source": [
        "df <- as.matrix(df)\n",
        "heatmap(df)"
      ],
      "metadata": {
        "id": "Ss6ay1iKJHHa"
      },
      "execution_count": null,
      "outputs": []
    },
    {
      "cell_type": "code",
      "source": [
        "df <- as.matrix(df)\n",
        "heatmap(df , scale = \"column\")"
      ],
      "metadata": {
        "id": "U07uvnmeJKh4"
      },
      "execution_count": null,
      "outputs": []
    },
    {
      "cell_type": "code",
      "source": [
        "heatmap(df , scale = \"column\" , col = cm.colors((256)))"
      ],
      "metadata": {
        "id": "brtSDm6GJNPg"
      },
      "execution_count": null,
      "outputs": []
    },
    {
      "cell_type": "code",
      "source": [
        "heatmap(df , scale = \"column\" , col = terrain.colors((256)))"
      ],
      "metadata": {
        "id": "iRGf91wtJQGg"
      },
      "execution_count": null,
      "outputs": []
    },
    {
      "cell_type": "code",
      "source": [
        "library(RColorBrewer)\n",
        "coul <- colorRampPalette(brewer.pal(8, \"BuGn\"))(25)  # Change \"piyG\" to \"PiYG\"\n",
        "heatmap(df, scale = \"column\", col = coul)"
      ],
      "metadata": {
        "id": "iNOOcIyRJUI5"
      },
      "execution_count": null,
      "outputs": []
    },
    {
      "cell_type": "code",
      "source": [
        "volcano"
      ],
      "metadata": {
        "id": "TXzQIpG7JaiP"
      },
      "execution_count": null,
      "outputs": []
    },
    {
      "cell_type": "code",
      "source": [
        "library(tidyverse)\n",
        "\n",
        "volcano %>%\n",
        "  as_tibble() %>%\n",
        "  rowid_to_column(var = \"X\") %>%\n",
        "  gather(key = \"Y\", value = \"z\" , -1) %>%\n",
        "  mutate(Y = as.numeric(gsub(\"v\", \"\", Y)))"
      ],
      "metadata": {
        "id": "EY8FJEpHKbC7"
      },
      "execution_count": null,
      "outputs": []
    },
    {
      "cell_type": "code",
      "source": [
        "# Load the necessary libraries\n",
        "library(tidyverse)\n",
        "\n",
        "# Convert the 'volcano' matrix into a tibble, add row numbers, reshape, and clean up the Y column\n",
        "volcano %>%\n",
        "  as_tibble() %>%\n",
        "  rowid_to_column(var = \"X\") %>%\n",
        "  pivot_longer(cols = -X, names_to = \"Y\", values_to = \"z\") %>%\n",
        "  mutate(Y = as.numeric(gsub(\"V\", \"\", Y))) -> volcano_tidy\n",
        "\n",
        "# Display the transformed dataset\n",
        "print(volcano_tidy)\n"
      ],
      "metadata": {
        "id": "y4f_HOgRPIfQ"
      },
      "execution_count": null,
      "outputs": []
    },
    {
      "source": [
        "library(tidyverse)\n",
        "\n",
        "# Convert the volcano matrix into a data frame\n",
        "volcano_df <- as.data.frame(volcano)\n",
        "\n",
        "# Add row and column names to the data frame\n",
        "rownames(volcano_df) <- 1:nrow(volcano_df)  # Assign row names as numbers\n",
        "colnames(volcano_df) <- paste0(\"V\", 1:ncol(volcano_df)) # Assign column names as V1, V2, ...\n",
        "\n",
        "# Reshape the data frame into a long format\n",
        "volcano_df_long <- volcano_df %>%\n",
        "  rownames_to_column(\"X\") %>%  # Use rownames_to_column to preserve row names\n",
        "  pivot_longer(cols = -X, names_to = \"Y\", values_to = \"z\") %>%\n",
        "  mutate(X = as.numeric(X), Y = as.numeric(gsub(\"V\", \"\", Y)))\n",
        "\n",
        "\n",
        "# Now create the plot using the reshaped data frame\n",
        "volcano_df_long %>% ggplot(aes(Y ,X , fill = z))+geom_tile()"
      ],
      "cell_type": "code",
      "metadata": {
        "id": "qtiwKd3vQbB-"
      },
      "execution_count": null,
      "outputs": []
    },
    {
      "cell_type": "code",
      "source": [
        "# execute this command only the first time you use ggpubfigs\n",
        "devtools::install_github(\"JLSteenwyk/ggpubfigs\")\n",
        "# load ggpubfigs\n",
        "library(ggpubfigs)"
      ],
      "metadata": {
        "collapsed": true,
        "id": "mAZt-AwoOBkJ"
      },
      "execution_count": null,
      "outputs": []
    },
    {
      "cell_type": "code",
      "source": [
        "mtcars"
      ],
      "metadata": {
        "id": "owXD5ZtiNweC"
      },
      "execution_count": null,
      "outputs": []
    },
    {
      "cell_type": "code",
      "source": [
        "ggplot(mtcars, aes(factor(carb), fill=factor(cyl))) + geom_bar() + scale_fill_manual(values = friendly_pal(\"ito_seven\")) + theme_big_simple()"
      ],
      "metadata": {
        "id": "j69tJfPoJiaF"
      },
      "execution_count": null,
      "outputs": []
    },
    {
      "cell_type": "code",
      "source": [
        "ggplot(iris, aes(Sepal.Length, fill = Species)) + geom_histogram() + theme_black()"
      ],
      "metadata": {
        "id": "m3hyLm4IJmle"
      },
      "execution_count": null,
      "outputs": []
    },
    {
      "cell_type": "code",
      "source": [
        "# Sample data\n",
        "data <- data.frame(Color = c('Red', 'Blue', 'Green', 'Red'))"
      ],
      "metadata": {
        "id": "sQnsgtbRJpvL"
      },
      "execution_count": null,
      "outputs": []
    },
    {
      "cell_type": "code",
      "source": [
        "# One-hot encode using model.matrix\n",
        "encoded_data <- model.matrix(~ Color - 1, data = data)\n",
        "\n",
        "# Display the encoded data\n",
        "print(encoded_data)"
      ],
      "metadata": {
        "id": "gz-RQ8KiJs6q"
      },
      "execution_count": null,
      "outputs": []
    },
    {
      "cell_type": "code",
      "source": [
        "\n",
        "# Load the dplyr package And column remove\n",
        "library(dplyr)\n",
        "\n",
        "# Remove the 'timestamp' column and keep the other specified columns\n",
        "df <- df %>% select(close, volume)"
      ],
      "metadata": {
        "collapsed": true,
        "id": "-uXj-MdlJ221"
      },
      "execution_count": null,
      "outputs": []
    },
    {
      "cell_type": "code",
      "source": [
        "# Load the data\n",
        "data(\"mtcars\")\n",
        "\n",
        "# Convert transmission type to a factor (0 = automatic, 1 = manual)\n",
        "mtcars$am <- factor(mtcars$am, labels = c(\"Automatic\", \"Manual\"))\n",
        "\n",
        "# Perform a t-test\n",
        "t_test_result <- t.test(mpg ~ am, data = mtcars)\n",
        "\n",
        "# Display the t-test result\n",
        "print(t_test_result)\n"
      ],
      "metadata": {
        "id": "ThX5DyZ5J3nc"
      },
      "execution_count": null,
      "outputs": []
    },
    {
      "cell_type": "code",
      "source": [
        "# Load the data\n",
        "data(\"mtcars\")\n",
        "\n",
        "# Convert the cylinder column to a factor\n",
        "mtcars$cyl <- as.factor(mtcars$cyl)\n",
        "\n",
        "# Perform ANOVA\n",
        "anova_result <- aov(mpg ~ cyl, data = mtcars)\n",
        "\n",
        "# Display the ANOVA result\n",
        "summary(anova_result)\n"
      ],
      "metadata": {
        "id": "Lz9_R7wQNhlg"
      },
      "execution_count": null,
      "outputs": []
    },
    {
      "cell_type": "code",
      "source": [
        "# Load the data\n",
        "data(\"mtcars\")\n",
        "\n",
        "# Known population mean\n",
        "population_mean <- 20\n",
        "\n",
        "# Calculate sample mean and standard deviation\n",
        "sample_mean <- mean(mtcars$mpg)\n",
        "sample_sd <- sd(mtcars$mpg)\n",
        "\n",
        "# Sample size\n",
        "n <- length(mtcars$mpg)\n",
        "\n",
        "# Calculate z-score\n",
        "z_score <- (sample_mean - population_mean) / (sample_sd / sqrt(n))\n",
        "\n",
        "# Calculate p-value (two-tailed)\n",
        "p_value <- 2 * (1 - pnorm(abs(z_score)))\n",
        "\n",
        "# Display the z-score and p-value\n",
        "cat(\"Z-score:\", z_score, \"\\nP-value:\", p_value, \"\\n\")\n"
      ],
      "metadata": {
        "id": "e7hQadwRNlrv"
      },
      "execution_count": null,
      "outputs": []
    },
    {
      "cell_type": "code",
      "source": [],
      "metadata": {
        "id": "d5mzK43lNpPk"
      },
      "execution_count": null,
      "outputs": []
    }
  ]
}